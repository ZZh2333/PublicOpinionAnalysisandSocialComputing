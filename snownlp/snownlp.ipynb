{
 "cells": [
  {
   "cell_type": "code",
   "execution_count": 1,
   "id": "sharp-slide",
   "metadata": {},
   "outputs": [],
   "source": [
    "from snownlp import SnowNLP"
   ]
  },
  {
   "cell_type": "code",
   "execution_count": 2,
   "id": "colonial-ceramic",
   "metadata": {},
   "outputs": [],
   "source": [
    "s = SnowNLP(u'师姐真是太漂亮了')"
   ]
  },
  {
   "cell_type": "code",
   "execution_count": 3,
   "id": "visible-soldier",
   "metadata": {},
   "outputs": [],
   "source": [
    "# s.words"
   ]
  },
  {
   "cell_type": "code",
   "execution_count": 4,
   "id": "minimal-calculation",
   "metadata": {},
   "outputs": [
    {
     "name": "stdout",
     "output_type": "stream",
     "text": [
      "0.5712446206564614\n"
     ]
    }
   ],
   "source": [
    "print(s.sentiments)"
   ]
  },
  {
   "cell_type": "code",
   "execution_count": 5,
   "id": "advised-knight",
   "metadata": {},
   "outputs": [
    {
     "name": "stdout",
     "output_type": "stream",
     "text": [
      "['太', '漂亮', '姐', '师']\n"
     ]
    }
   ],
   "source": [
    "print(s.keywords())"
   ]
  },
  {
   "cell_type": "code",
   "execution_count": 6,
   "id": "spare-appraisal",
   "metadata": {},
   "outputs": [],
   "source": [
    "text = \"《三国演义》又名《三国志演义》、《三国志通俗演义》，是我国小说史上最著名最杰出的长篇章回体历史小说。 《三国演义》的作者是元末明初人罗贯中，由毛纶，毛宗岗父子批改。在其成书前，“三国故事”已经历了数百年的历史发展过程。在唐代，三国故事已广为流传，连儿童都很熟悉。随着市民文艺的发展，宋代的“说话”艺人，已有专门说三国故事的，当时称为“说三分”。元代出现的《三国志平话》，实际上是从说书人使用的本子，虽较简略粗糙，但已初肯《三国演义》的规模。罗贯中在群众传说和民间艺人创作的基础上，又依据陈寿《三国志》及裴松之注中所征引的资料（还包括《世说新语》及注中的资料），经过巨大的创作劳动，写在了规模宏伟的巨著——《三国志通俗演义》全书24卷，240回。后来经过毛纶，毛宗岗父子批改，形成我们现在所见的《三国演义》120回版 由于人文出版社选取的毛批版本和明嘉靖版的《三国志通俗演义》颇有出入，将拥刘抑曹的思想发展到一个几乎病态的角度，且大量地删除了原文中赞扬曹操一方人物的诗词和评论，所以给世人造成一种三国演义打击曹操、歌颂刘备的错误印象，且该批改版将刘备一方无限神化，甚至将诸葛亮准备将魏延烧死在上方谷这样的情节统统删除，将诸葛说成是一个完美近乎神人的形象，这是大家阅读时候值得注意的地方。 由于该版本选用的是毛批改版，而且没有将毛家父子的批语选入，就会给人造成一种错觉，认为该版本和毛批本是不相同的，其实本书和毛批本完全一致，不过是删除了批语部分，加入了编者的注脚。请读者朋友们阅读时注意\""
   ]
  },
  {
   "cell_type": "code",
   "execution_count": 7,
   "id": "arbitrary-index",
   "metadata": {},
   "outputs": [
    {
     "data": {
      "text/plain": [
       "1.0"
      ]
     },
     "execution_count": 7,
     "metadata": {},
     "output_type": "execute_result"
    }
   ],
   "source": [
    "sn = SnowNLP(text)\n",
    "sn.sentiments"
   ]
  },
  {
   "cell_type": "code",
   "execution_count": 8,
   "id": "advanced-lincoln",
   "metadata": {},
   "outputs": [
    {
     "data": {
      "text/plain": [
       "['中', '三国志', '说', '三国演义', '曹']"
      ]
     },
     "execution_count": 8,
     "metadata": {},
     "output_type": "execute_result"
    }
   ],
   "source": [
    "sn.keywords()"
   ]
  }
 ],
 "metadata": {
  "kernelspec": {
   "display_name": "Python 3",
   "language": "python",
   "name": "python3"
  },
  "language_info": {
   "codemirror_mode": {
    "name": "ipython",
    "version": 3
   },
   "file_extension": ".py",
   "mimetype": "text/x-python",
   "name": "python",
   "nbconvert_exporter": "python",
   "pygments_lexer": "ipython3",
   "version": "3.6.12"
  }
 },
 "nbformat": 4,
 "nbformat_minor": 5
}
