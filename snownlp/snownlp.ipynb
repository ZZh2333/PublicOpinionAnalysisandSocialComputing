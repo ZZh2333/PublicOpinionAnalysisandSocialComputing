{
 "cells": [
  {
   "cell_type": "code",
   "execution_count": 1,
   "id": "collect-lodging",
   "metadata": {},
   "outputs": [],
   "source": [
    "from snownlp import SnowNLP"
   ]
  },
  {
   "cell_type": "code",
   "execution_count": 6,
   "id": "general-disorder",
   "metadata": {},
   "outputs": [],
   "source": [
    "s = SnowNLP(u'师姐真是太漂亮了')"
   ]
  },
  {
   "cell_type": "code",
   "execution_count": 7,
   "id": "boring-links",
   "metadata": {},
   "outputs": [],
   "source": [
    "# s.words"
   ]
  },
  {
   "cell_type": "code",
   "execution_count": 8,
   "id": "social-shoot",
   "metadata": {},
   "outputs": [
    {
     "name": "stdout",
     "output_type": "stream",
     "text": [
      "0.5712446206564614\n"
     ]
    }
   ],
   "source": [
    "print(s.sentiments)"
   ]
  },
  {
   "cell_type": "code",
   "execution_count": 9,
   "id": "dimensional-conservation",
   "metadata": {},
   "outputs": [
    {
     "name": "stdout",
     "output_type": "stream",
     "text": [
      "['太', '漂亮', '姐', '师']\n"
     ]
    }
   ],
   "source": [
    "print(s.keywords())"
   ]
  },
  {
   "cell_type": "code",
   "execution_count": null,
   "id": "martial-january",
   "metadata": {},
   "outputs": [],
   "source": []
  }
 ],
 "metadata": {
  "kernelspec": {
   "display_name": "Python 3",
   "language": "python",
   "name": "python3"
  },
  "language_info": {
   "codemirror_mode": {
    "name": "ipython",
    "version": 3
   },
   "file_extension": ".py",
   "mimetype": "text/x-python",
   "name": "python",
   "nbconvert_exporter": "python",
   "pygments_lexer": "ipython3",
   "version": "3.6.12"
  }
 },
 "nbformat": 4,
 "nbformat_minor": 5
}
