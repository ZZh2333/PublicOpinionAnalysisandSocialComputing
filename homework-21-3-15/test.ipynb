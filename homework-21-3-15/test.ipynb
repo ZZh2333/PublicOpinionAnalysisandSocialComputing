{
 "cells": [
  {
   "cell_type": "code",
   "execution_count": null,
   "id": "attempted-camping",
   "metadata": {},
   "outputs": [],
   "source": [
    "import requests\n",
    "import re\n",
    "from bs4 import BeautifulSoup as bs\n",
    "import pymysql\n",
    "from random import randint\n",
    "import time"
   ]
  },
  {
   "cell_type": "code",
   "execution_count": null,
   "id": "digital-detective",
   "metadata": {},
   "outputs": [],
   "source": [
    "USER_AGENTS = [\n",
    " \"Mozilla/4.0 (compatible; MSIE 6.0; Windows NT 5.1; SV1; AcooBrowser; .NET CLR 1.1.4322; .NET CLR 2.0.50727)\",\n",
    " \"Mozilla/4.0 (compatible; MSIE 7.0; Windows NT 6.0; Acoo Browser; SLCC1; .NET CLR 2.0.50727; Media Center PC 5.0; .NET CLR 3.0.04506)\",\n",
    " \"Mozilla/4.0 (compatible; MSIE 7.0; AOL 9.5; AOLBuild 4337.35; Windows NT 5.1; .NET CLR 1.1.4322; .NET CLR 2.0.50727)\",\n",
    " \"Mozilla/5.0 (Windows; U; MSIE 9.0; Windows NT 9.0; en-US)\",\n",
    " \"Mozilla/5.0 (compatible; MSIE 9.0; Windows NT 6.1; Win64; x64; Trident/5.0; .NET CLR 3.5.30729; .NET CLR 3.0.30729; .NET CLR 2.0.50727; Media Center PC 6.0)\",\n",
    " \"Mozilla/5.0 (compatible; MSIE 8.0; Windows NT 6.0; Trident/4.0; WOW64; Trident/4.0; SLCC2; .NET CLR 2.0.50727; .NET CLR 3.5.30729; .NET CLR 3.0.30729; .NET CLR 1.0.3705; .NET CLR 1.1.4322)\",\n",
    " \"Mozilla/4.0 (compatible; MSIE 7.0b; Windows NT 5.2; .NET CLR 1.1.4322; .NET CLR 2.0.50727; InfoPath.2; .NET CLR 3.0.04506.30)\",\n",
    " \"Mozilla/5.0 (Windows; U; Windows NT 5.1; zh-CN) AppleWebKit/523.15 (KHTML, like Gecko, Safari/419.3) Arora/0.3 (Change: 287 c9dfb30)\",\n",
    " \"Mozilla/5.0 (X11; U; Linux; en-US) AppleWebKit/527+ (KHTML, like Gecko, Safari/419.3) Arora/0.6\",\n",
    " \"Mozilla/5.0 (Windows; U; Windows NT 5.1; en-US; rv:1.8.1.2pre) Gecko/20070215 K-Ninja/2.1.1\",\n",
    " \"Mozilla/5.0 (Windows; U; Windows NT 5.1; zh-CN; rv:1.9) Gecko/20080705 Firefox/3.0 Kapiko/3.0\",\n",
    " \"Mozilla/5.0 (X11; Linux i686; U;) Gecko/20070322 Kazehakase/0.4.5\",\n",
    " \"Mozilla/5.0 (X11; U; Linux i686; en-US; rv:1.9.0.8) Gecko Fedora/1.9.0.8-1.fc10 Kazehakase/0.5.6\",\n",
    " \"Mozilla/5.0 (Windows NT 6.1; WOW64) AppleWebKit/535.11 (KHTML, like Gecko) Chrome/17.0.963.56 Safari/535.11\",\n",
    " \"Mozilla/5.0 (Macintosh; Intel Mac OS X 10_7_3) AppleWebKit/535.20 (KHTML, like Gecko) Chrome/19.0.1036.7 Safari/535.20\",\n",
    " \"Opera/9.80 (Macintosh; Intel Mac OS X 10.6.8; U; fr) Presto/2.9.168 Version/11.52\",\n",
    "]"
   ]
  },
  {
   "cell_type": "code",
   "execution_count": null,
   "id": "concrete-voice",
   "metadata": {},
   "outputs": [],
   "source": [
    "def parsecontent(newsurl):\n",
    "#     处理空url\n",
    "    if newsurl == 'http://www.cuc.edu.cn':\n",
    "        url = \"http://www.cuc.edu.cn/news/2021/0309/c1901a178590/page.htm\"\n",
    "    else:\n",
    "        url = newsurl\n",
    "    \n",
    "    random_agent = USER_AGENTS[randint(0, len(USER_AGENTS)-1)]\n",
    "    headers = {'User-Agent':random_agent,}\n",
    "    r = requests.get(url,headers=headers,verify=False)\n",
    "    rt = r.content\n",
    "    rh = str(rt,\"utf-8\")\n",
    "    soup = bs(rh,\"html.parser\")\n",
    "    info = soup.find_all(\"span\",attrs={\"class\":\"arti-name\"})\n",
    "#     print(info)\n",
    "    try:\n",
    "        infotext = info[0].get_text()\n",
    "        department = infotext[infotext.find('来源：')+3:infotext.find('20')]\n",
    "        rn = re.compile('[\\u4e00-\\u9fa5]+')\n",
    "        dep = rn.findall(department)\n",
    "        date = infotext[infotext.find('20'):infotext.find('20')+10]\n",
    "        countinfo = soup.find_all(\"span\",attrs={\"class\":\"WP_VisitCount\"})\n",
    "        count = countinfo[0].get_text()\n",
    "        contentinfo = soup.find_all(\"div\",attrs={\"class\":\"wp_articlecontent\"})\n",
    "        content = contentinfo[0].get_text()\n",
    "        return dep[0],date,count,content\n",
    "    except:\n",
    "        print(\"lose\")\n",
    "        return 0,0,0,0"
   ]
  },
  {
   "cell_type": "code",
   "execution_count": null,
   "id": "presidential-investment",
   "metadata": {},
   "outputs": [],
   "source": [
    "def saveinfo(title,newsurl,department,date,count,content):\n",
    "    db = pymysql.connect(host=\"localhost\",user=\"zouzh\",passwd=\"zouzihan0706\",db=\"class\")\n",
    "    cursor = db.cursor()\n",
    "    try:\n",
    "        cursor.execute(\"INSERT INTO cucnews(title,newsurl,department,date,count,content)VALUES(%s,%s,%s,%s,%s,%s)\",(title,newsurl,department,date,count,content))\n",
    "        db.commit()\n",
    "        i = i+1\n",
    "#         print(\"db-ok\")\n",
    "    except:\n",
    "#         print(\"db-error\")\n",
    "        db.rollback()\n",
    "    db.close()"
   ]
  },
  {
   "cell_type": "code",
   "execution_count": null,
   "id": "ordinary-singer",
   "metadata": {},
   "outputs": [],
   "source": [
    "urlbegin = \"http://www.cuc.edu.cn/news/1901/list\"\n",
    "# k用于计数\n",
    "k = 0\n",
    "for i in range(1,11):\n",
    "    random_agent = USER_AGENTS[randint(0, len(USER_AGENTS)-1)]\n",
    "    headers = {'User-Agent':random_agent,}\n",
    "    url = urlbegin+str(i)+\".htm\"\n",
    "    r = requests.get(url,headers=headers,verify=False)\n",
    "    rt = r.content\n",
    "    rh = str(rt,\"utf-8\")\n",
    "    soup = bs(rh,\"html.parser\")\n",
    "    tit = soup.find_all(\"h3\",attrs={'class','tit'})\n",
    "    for t in tit:\n",
    "        newsurl = t.find_all('a')\n",
    "        urllen = str(newsurl[0]).find(\"target\")\n",
    "        title = t.get_text()\n",
    "        newsurl = 'http://www.cuc.edu.cn' + (str(newsurl[0])[9:urllen-2])\n",
    "#         对每个页面内容进行爬取\n",
    "        department,date,count,content = parsecontent(newsurl)\n",
    "#         测试\n",
    "#         m = parsecontent(newsurl)\n",
    "#         print(department)\n",
    "\n",
    "        saveinfo(title,newsurl,department,date,count,content)\n",
    "        k = k+1\n",
    "        print(k)\n",
    "#         print(title)\n",
    "        time.sleep(0.5)\n",
    "#         print(newsurl)\n",
    "#         print(department)\n",
    "#         print(date)\n",
    "#         print(count)\n",
    "#         print(content)\n",
    "print(\"successful!\")"
   ]
  },
  {
   "cell_type": "code",
   "execution_count": 9,
   "id": "outstanding-tissue",
   "metadata": {},
   "outputs": [
    {
     "data": {
      "text/plain": [
       "0.6650127257811139"
      ]
     },
     "execution_count": 9,
     "metadata": {},
     "output_type": "execute_result"
    }
   ],
   "source": [
    "import numpy as np\n",
    "i = np.random.uniform(0.5,1)\n",
    "i\n"
   ]
  }
 ],
 "metadata": {
  "kernelspec": {
   "display_name": "Python 3",
   "language": "python",
   "name": "python3"
  },
  "language_info": {
   "codemirror_mode": {
    "name": "ipython",
    "version": 3
   },
   "file_extension": ".py",
   "mimetype": "text/x-python",
   "name": "python",
   "nbconvert_exporter": "python",
   "pygments_lexer": "ipython3",
   "version": "3.6.12"
  }
 },
 "nbformat": 4,
 "nbformat_minor": 5
}
