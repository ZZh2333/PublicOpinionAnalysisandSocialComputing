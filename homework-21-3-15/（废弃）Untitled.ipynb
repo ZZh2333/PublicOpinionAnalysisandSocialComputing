{
 "cells": [
  {
   "cell_type": "code",
   "execution_count": 1,
   "id": "behind-stamp",
   "metadata": {},
   "outputs": [],
   "source": [
    "import requests\n",
    "import re\n",
    "from bs4 import BeautifulSoup as bs\n",
    "import pymysql\n",
    "# from random import randint\n",
    "import time\n",
    "import redis"
   ]
  },
  {
   "cell_type": "code",
   "execution_count": 2,
   "id": "protecting-angel",
   "metadata": {},
   "outputs": [],
   "source": [
    "redi = redis.StrictRedis(host='localhost', port=6379,db=0)"
   ]
  },
  {
   "cell_type": "code",
   "execution_count": 3,
   "id": "focal-steering",
   "metadata": {},
   "outputs": [],
   "source": [
    "def parsecontent(newsurl):\n",
    "    url = newsurl\n",
    "    try:\n",
    "#     random_agent = USER_AGENTS[randint(0, len(USER_AGENTS)-1)]\n",
    "        headers = {\n",
    "            'Connection':'close',\n",
    "        }\n",
    "        r = requests.get(url,headers=headers)\n",
    "        rt = r.content\n",
    "        rh = str(rt,\"utf-8\")\n",
    "        soup = bs(rh,\"html.parser\")\n",
    "#     print(soup)\n",
    "\n",
    "#     h1 = soup.find_all(\"h1\")\n",
    "#     print(h1)\n",
    "\n",
    "#     \"class\":\"arti-name\"中包含部门、日期、浏览量\n",
    "        info = soup.find_all(\"span\",attrs={\"class\":\"arti-name\"})\n",
    "#     print(info)\n",
    "        infotext = info[0].get_text()\n",
    "#     print(infotext)\n",
    "\n",
    "#     爬取部门\n",
    "#     +3为了除去“来源：”占用的3个字符,截至到20，20为年份开头\n",
    "        department = infotext[infotext.find('来源：')+3:infotext.find('20')]\n",
    "#     print(department)\n",
    "\n",
    "#     正则匹配\n",
    "        rn = re.compile('[\\u4e00-\\u9fa5]+')\n",
    "        dep = rn.findall(department)\n",
    "#     print(dep[0])\n",
    "    \n",
    "#     爬取时间\n",
    "        date = infotext[infotext.find('20'):infotext.find('20')+10]\n",
    "#     print(date)\n",
    "\n",
    "#     由于浏览量的位数不确定，故不采用此方法\n",
    "#     count = infotext[infotext.find('浏览量：')+4:infotext.find('浏览量：')+6]\n",
    "#     print(count)\n",
    "\n",
    "#     爬取浏览量\n",
    "        countinfo = soup.find_all(\"span\",attrs={\"class\":\"WP_VisitCount\"})\n",
    "        count = countinfo[0].get_text()\n",
    "#     print(count)\n",
    "\n",
    "#     爬取内容\n",
    "        contentinfo = soup.find_all(\"div\",attrs={\"class\":\"wp_articlecontent\"})\n",
    "        content = contentinfo[0].get_text()\n",
    "#     print(content)\n",
    "\n",
    "        return dep[0],date,count,content\n",
    "    except:\n",
    "        print(\"error:\"+newsurl)\n",
    "        return 0,0,0,0"
   ]
  },
  {
   "cell_type": "code",
   "execution_count": 4,
   "id": "fleet-opportunity",
   "metadata": {},
   "outputs": [],
   "source": [
    "def saveinfo(title,newsurl,department,date,count,content):\n",
    "    db = pymysql.connect(host=\"localhost\",user=\"zouzh\",passwd=\"zouzihan0706\",db=\"class\")\n",
    "    cursor = db.cursor()\n",
    "    flag = redi.sadd('urls',newsurl)\n",
    "    if flag == 1:\n",
    "        try:\n",
    "            cursor.execute(\"INSERT INTO cucnews2(title,newsurl,department,date,count,content)VALUES(%s,%s,%s,%s,%s,%s)\",(title,newsurl,department,date,count,content))\n",
    "            db.commit()\n",
    "    #         print(\"db-ok\")\n",
    "        except:\n",
    "    #         print(\"db-error\")\n",
    "            db.rollback()\n",
    "    else:\n",
    "        print(\"数据还未更新\")\n",
    "            \n",
    "    db.close()"
   ]
  },
  {
   "cell_type": "code",
   "execution_count": 5,
   "id": "destroyed-tension",
   "metadata": {},
   "outputs": [
    {
     "name": "stdout",
     "output_type": "stream",
     "text": [
      "Error 10061 connecting to localhost:6379. 由于目标计算机积极拒绝，无法连接。.\n"
     ]
    }
   ],
   "source": [
    "urlbegin = \"http://www.cuc.edu.cn/news/1901/list\"\n",
    "# k用于计数\n",
    "k = 0\n",
    "try:\n",
    "    for i in range(1,585):\n",
    "#     random_agent = USER_AGENTS[randint(0, len(USER_AGENTS)-1)]\n",
    "#     headers = {'User-Agent':random_agent,}\n",
    "        url = urlbegin+str(i)+\".htm\"\n",
    "        r = requests.get(url)\n",
    "        rt = r.content\n",
    "        rh = str(rt,\"utf-8\")\n",
    "        soup = bs(rh,\"html.parser\")\n",
    "        tit = soup.find_all(\"h3\",attrs={'class','tit'})\n",
    "        for t in tit:\n",
    "            newsurl = t.find_all('a')\n",
    "            urllen = str(newsurl[0]).find(\"target\")\n",
    "            title = t.get_text()\n",
    "            newsurl = 'http://www.cuc.edu.cn' + (str(newsurl[0])[9:urllen-2])\n",
    "#             对每个页面内容进行爬取\n",
    "#             print(newsurl)\n",
    "            department,date,count,content = parsecontent(newsurl)\n",
    "#         测试\n",
    "#         m = parsecontent(newsurl)\n",
    "#         print(department)\n",
    "            saveinfo(title,newsurl,department,date,count,content)\n",
    "            k = k+1\n",
    "            print(k)\n",
    "            time.sleep(1)\n",
    "    print(\"successful!\")\n",
    "except Exception as e:\n",
    "    print(e)"
   ]
  }
 ],
 "metadata": {
  "kernelspec": {
   "display_name": "Python 3",
   "language": "python",
   "name": "python3"
  },
  "language_info": {
   "codemirror_mode": {
    "name": "ipython",
    "version": 3
   },
   "file_extension": ".py",
   "mimetype": "text/x-python",
   "name": "python",
   "nbconvert_exporter": "python",
   "pygments_lexer": "ipython3",
   "version": "3.6.12"
  }
 },
 "nbformat": 4,
 "nbformat_minor": 5
}
