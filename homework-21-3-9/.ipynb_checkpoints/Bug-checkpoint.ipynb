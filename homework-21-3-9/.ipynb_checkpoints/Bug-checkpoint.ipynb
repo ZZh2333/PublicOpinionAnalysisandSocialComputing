{
 "cells": [
  {
   "cell_type": "markdown",
   "id": "isolated-lafayette",
   "metadata": {},
   "source": [
    "# 爬取中传要闻"
   ]
  },
  {
   "cell_type": "markdown",
   "id": "smooth-cornell",
   "metadata": {},
   "source": [
    "### 1.导包"
   ]
  },
  {
   "cell_type": "code",
   "execution_count": 1,
   "id": "demanding-county",
   "metadata": {},
   "outputs": [],
   "source": [
    "import requests as re\n",
    "from bs4 import BeautifulSoup as bs\n",
    "import csv"
   ]
  },
  {
   "cell_type": "markdown",
   "id": "physical-purpose",
   "metadata": {},
   "source": [
    "### 2.获取URL及其编码"
   ]
  },
  {
   "cell_type": "code",
   "execution_count": 2,
   "id": "received-daisy",
   "metadata": {},
   "outputs": [
    {
     "name": "stdout",
     "output_type": "stream",
     "text": [
      "ISO-8859-1\n"
     ]
    }
   ],
   "source": [
    "url = 'http://www.cuc.edu.cn/news/1901/list.htm'\n",
    "r = re.get(url)\n",
    "code = r.encoding\n",
    "print(code)"
   ]
  },
  {
   "cell_type": "markdown",
   "id": "grave-queensland",
   "metadata": {},
   "source": [
    "### 3.转换编码为utf-8"
   ]
  },
  {
   "cell_type": "code",
   "execution_count": 3,
   "id": "rolled-philippines",
   "metadata": {},
   "outputs": [],
   "source": [
    "rt = r.content\n",
    "rhtml = str(rt,\"utf-8\")\n",
    "# print(rhtml)"
   ]
  },
  {
   "cell_type": "markdown",
   "id": "fancy-baker",
   "metadata": {},
   "source": [
    "### 4.解析页面"
   ]
  },
  {
   "cell_type": "code",
   "execution_count": 4,
   "id": "executive-writer",
   "metadata": {},
   "outputs": [
    {
     "name": "stdout",
     "output_type": "stream",
     "text": [
      "[<h3 frag=\"窗口31\">中传要闻</h3>, <h3 class=\"tit\">\n",
      "<a href=\"/news/2021/0309/c1901a178590/page.htm\" target=\"_blank\">我校广告学院推出纪录片《中国广告四十年》</a>\n",
      "</h3>, <h3 class=\"tit\">\n",
      "<a href=\"/news/2021/0309/c1901a178585/page.htm\" target=\"_blank\">中国传媒大学新增16个“双万计划”一流本科专业建设点</a>\n",
      "</h3>, <h3 class=\"tit\">\n",
      "<a href=\"/news/2021/0308/c1901a178553/page.htm\" target=\"_blank\">我校女教授协会第四届理事会第一次会议暨青年女教师发展协会成立...</a>\n",
      "</h3>, <h3 class=\"tit\">\n",
      "<a href=\"/news/2021/0308/c1901a178552/page.htm\" target=\"_blank\">我校学生参与2022冬奥会“相约北京”冬季体育系列测试活动</a>\n",
      "</h3>, <h3 class=\"tit\">\n",
      "<a href=\"/news/2021/0308/c1901a178545/page.htm\" target=\"_blank\">我校与英国阿伯泰大学举行线上合作会议</a>\n",
      "</h3>, <h3 class=\"tit\">\n",
      "<a href=\"/news/2021/0305/c1901a178507/page.htm\" target=\"_blank\">我校师生高度关注全国“两会”开幕</a>\n",
      "</h3>, <h3 class=\"mod-hd\">\n",
      "\t\t\t最新更新\n",
      "\t\t</h3>, <h3 class=\"mod-hd\">热点排行</h3>]\n"
     ]
    }
   ],
   "source": [
    "try:\n",
    "    soup = bs(rhtml,\"html.parser\")\n",
    "    herf = soup.find_all(\"h3\")\n",
    "    print(herf)\n",
    "except:\n",
    "    print(\"error\")"
   ]
  },
  {
   "cell_type": "markdown",
   "id": "mobile-calibration",
   "metadata": {},
   "source": [
    "### 5.爬取中传要闻标题和URL并存入homework.csv"
   ]
  },
  {
   "cell_type": "code",
   "execution_count": 5,
   "id": "lovely-atlantic",
   "metadata": {},
   "outputs": [
    {
     "name": "stdout",
     "output_type": "stream",
     "text": [
      "successful\n"
     ]
    }
   ],
   "source": [
    "urlbegin = \"http://www.cuc.edu.cn/news/1901/list\"\n",
    "try:\n",
    "    f = open('homework.csv','w',encoding = 'utf-8',newline='')\n",
    "    csv_writer = csv.writer(f)\n",
    "    csv_writer.writerow([\"网址\",\"标题\"])\n",
    "    for i in range(1,11):\n",
    "        url = urlbegin+str(i)+\".htm\"\n",
    "#         print(url)\n",
    "        r = re.get(url)\n",
    "#         print(r)\n",
    "        rt = r.content\n",
    "        rh = str(rt,\"utf-8\")\n",
    "#         print(rh)\n",
    "        soup = bs(rh,\"html.parser\")\n",
    "        title = soup.find_all(\"h3\",attrs={'class','tit'})\n",
    "#         print(title)\n",
    "        for t in title:\n",
    "            newsurl = t.find_all('a')\n",
    "            urllen = str(newsurl[0]).find(\"target\")\n",
    "            tit = t.get_text()\n",
    "            url = 'http://www.cuc.edu.cn' + (str(newsurl[0])[9:urllen-2])\n",
    "            csv_writer.writerow([url,tit])\n",
    "    f.close()\n",
    "    print(\"successful\")\n",
    "except:\n",
    "    print(\"error\")"
   ]
  }
 ],
 "metadata": {
  "kernelspec": {
   "display_name": "Python 3",
   "language": "python",
   "name": "python3"
  },
  "language_info": {
   "codemirror_mode": {
    "name": "ipython",
    "version": 3
   },
   "file_extension": ".py",
   "mimetype": "text/x-python",
   "name": "python",
   "nbconvert_exporter": "python",
   "pygments_lexer": "ipython3",
   "version": "3.6.12"
  }
 },
 "nbformat": 4,
 "nbformat_minor": 5
}
