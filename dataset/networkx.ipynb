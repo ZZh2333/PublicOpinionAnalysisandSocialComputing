{
 "cells": [
  {
   "cell_type": "code",
   "execution_count": 1,
   "id": "national-thanksgiving",
   "metadata": {},
   "outputs": [],
   "source": [
    "import networkx as nx\n",
    "import matplotlib.pyplot as plt\n",
    "import pandas as pd\n",
    "import numpy as np"
   ]
  },
  {
   "cell_type": "code",
   "execution_count": 2,
   "id": "moving-daisy",
   "metadata": {},
   "outputs": [
    {
     "data": {
      "text/html": [
       "<div>\n",
       "<style scoped>\n",
       "    .dataframe tbody tr th:only-of-type {\n",
       "        vertical-align: middle;\n",
       "    }\n",
       "\n",
       "    .dataframe tbody tr th {\n",
       "        vertical-align: top;\n",
       "    }\n",
       "\n",
       "    .dataframe thead th {\n",
       "        text-align: right;\n",
       "    }\n",
       "</style>\n",
       "<table border=\"1\" class=\"dataframe\">\n",
       "  <thead>\n",
       "    <tr style=\"text-align: right;\">\n",
       "      <th></th>\n",
       "      <th>begin</th>\n",
       "      <th>end</th>\n",
       "    </tr>\n",
       "  </thead>\n",
       "  <tbody>\n",
       "    <tr>\n",
       "      <th>0</th>\n",
       "      <td>0</td>\n",
       "      <td>276</td>\n",
       "    </tr>\n",
       "    <tr>\n",
       "      <th>1</th>\n",
       "      <td>0</td>\n",
       "      <td>58</td>\n",
       "    </tr>\n",
       "    <tr>\n",
       "      <th>2</th>\n",
       "      <td>0</td>\n",
       "      <td>132</td>\n",
       "    </tr>\n",
       "    <tr>\n",
       "      <th>3</th>\n",
       "      <td>0</td>\n",
       "      <td>603</td>\n",
       "    </tr>\n",
       "    <tr>\n",
       "      <th>4</th>\n",
       "      <td>0</td>\n",
       "      <td>398</td>\n",
       "    </tr>\n",
       "  </tbody>\n",
       "</table>\n",
       "</div>"
      ],
      "text/plain": [
       "   begin  end\n",
       "0      0  276\n",
       "1      0   58\n",
       "2      0  132\n",
       "3      0  603\n",
       "4      0  398"
      ]
     },
     "execution_count": 2,
     "metadata": {},
     "output_type": "execute_result"
    }
   ],
   "source": [
    "data = pd.read_csv('fb-pages-food.edges',header=None,names=['begin','end'])\n",
    "data.head()"
   ]
  },
  {
   "cell_type": "code",
   "execution_count": 3,
   "id": "dying-doctrine",
   "metadata": {},
   "outputs": [
    {
     "data": {
      "text/plain": [
       "620"
      ]
     },
     "execution_count": 3,
     "metadata": {},
     "output_type": "execute_result"
    }
   ],
   "source": [
    "point = []\n",
    "for i in data['begin']:\n",
    "    if i not in point:\n",
    "        point.append(i)\n",
    "for j in data['end']:\n",
    "    if j not in point:\n",
    "        point.append(j)\n",
    "len(point)"
   ]
  },
  {
   "cell_type": "code",
   "execution_count": 4,
   "id": "annoying-radical",
   "metadata": {},
   "outputs": [
    {
     "data": {
      "text/plain": [
       "[0, 1, 2, 3, 4, 5, 6, 7, 8, 9]"
      ]
     },
     "execution_count": 4,
     "metadata": {},
     "output_type": "execute_result"
    }
   ],
   "source": [
    "point.sort()\n",
    "point[:10]"
   ]
  },
  {
   "cell_type": "code",
   "execution_count": 5,
   "id": "caroline-lyric",
   "metadata": {},
   "outputs": [
    {
     "data": {
      "text/plain": [
       "array([[  0, 276],\n",
       "       [  0,  58],\n",
       "       [  0, 132],\n",
       "       ...,\n",
       "       [601, 616],\n",
       "       [603, 616],\n",
       "       [311, 613]], dtype=int64)"
      ]
     },
     "execution_count": 5,
     "metadata": {},
     "output_type": "execute_result"
    }
   ],
   "source": [
    "data_value = data.values\n",
    "data_value"
   ]
  },
  {
   "cell_type": "code",
   "execution_count": 6,
   "id": "valuable-installation",
   "metadata": {},
   "outputs": [],
   "source": [
    "G = nx.Graph()"
   ]
  },
  {
   "cell_type": "code",
   "execution_count": 7,
   "id": "excellent-russia",
   "metadata": {},
   "outputs": [],
   "source": [
    "for i in point:\n",
    "    G.add_node(i)\n",
    "for row in data_value:\n",
    "    G.add_edge(row[0],row[1])"
   ]
  },
  {
   "cell_type": "code",
   "execution_count": 8,
   "id": "threaded-quality",
   "metadata": {},
   "outputs": [
    {
     "name": "stdout",
     "output_type": "stream",
     "text": [
      "2102\n"
     ]
    }
   ],
   "source": [
    "print(G.number_of_edges())"
   ]
  },
  {
   "cell_type": "code",
   "execution_count": 9,
   "id": "present-harvey",
   "metadata": {},
   "outputs": [
    {
     "data": {
      "image/png": "[encoded data removed]",
      "text/plain": [
       "<Figure size 432x288 with 1 Axes>"
      ]
     },
     "metadata": {},
     "output_type": "display_data"
    }
   ],
   "source": [
    "nx.draw(G)"
   ]
  },
  {
   "cell_type": "code",
   "execution_count": 10,
   "id": "vital-overview",
   "metadata": {},
   "outputs": [
    {
     "data": {
      "text/plain": [
       "DegreeView({0: 6, 1: 2, 2: 3, 3: 10, 4: 4, 5: 1, 6: 5, 7: 7, 8: 5, 9: 28, 10: 2, 11: 6, 12: 3, 13: 1, 14: 2, 15: 10, 16: 12, 17: 5, 18: 1, 19: 1, 20: 6, 21: 4, 22: 6, 23: 14, 24: 6, 25: 1, 26: 1, 27: 1, 28: 3, 29: 1, 30: 1, 31: 25, 32: 8, 33: 2, 34: 6, 35: 22, 36: 1, 37: 1, 38: 1, 39: 6, 40: 7, 41: 13, 42: 1, 43: 12, 44: 1, 45: 6, 46: 7, 47: 3, 48: 5, 49: 6, 50: 14, 51: 1, 52: 2, 53: 1, 54: 5, 55: 8, 56: 47, 57: 2, 58: 15, 59: 2, 60: 6, 61: 1, 62: 11, 63: 10, 64: 1, 65: 8, 66: 1, 67: 56, 68: 10, 69: 3, 70: 47, 71: 3, 72: 3, 73: 2, 74: 1, 75: 11, 76: 1, 77: 1, 78: 9, 79: 8, 80: 1, 81: 2, 82: 6, 83: 7, 84: 3, 85: 5, 86: 2, 87: 30, 88: 6, 89: 43, 90: 51, 91: 2, 92: 1, 93: 5, 94: 2, 95: 2, 96: 3, 97: 1, 98: 7, 99: 4, 100: 1, 101: 7, 102: 8, 103: 3, 104: 6, 105: 2, 106: 3, 107: 12, 108: 5, 109: 4, 110: 2, 111: 4, 112: 2, 113: 10, 114: 8, 115: 2, 116: 22, 117: 13, 118: 4, 119: 12, 120: 2, 121: 5, 122: 3, 123: 6, 124: 4, 125: 3, 126: 4, 127: 4, 128: 16, 129: 2, 130: 10, 131: 26, 132: 2, 133: 2, 134: 7, 135: 12, 136: 14, 137: 5, 138: 3, 139: 2, 140: 2, 141: 5, 142: 7, 143: 13, 144: 5, 145: 6, 146: 9, 147: 11, 148: 5, 149: 5, 150: 6, 151: 21, 152: 8, 153: 1, 154: 12, 155: 8, 156: 1, 157: 10, 158: 9, 159: 7, 160: 2, 161: 1, 162: 3, 163: 6, 164: 22, 165: 7, 166: 5, 167: 1, 168: 1, 169: 8, 170: 3, 171: 5, 172: 5, 173: 1, 174: 7, 175: 5, 176: 8, 177: 3, 178: 2, 179: 12, 180: 4, 181: 15, 182: 31, 183: 7, 184: 6, 185: 9, 186: 4, 187: 6, 188: 1, 189: 5, 190: 1, 191: 3, 192: 2, 193: 9, 194: 3, 195: 14, 196: 1, 197: 1, 198: 29, 199: 3, 200: 1, 201: 1, 202: 8, 203: 2, 204: 2, 205: 1, 206: 3, 207: 1, 208: 10, 209: 2, 210: 8, 211: 1, 212: 6, 213: 1, 214: 7, 215: 4, 216: 5, 217: 31, 218: 1, 219: 1, 220: 7, 221: 2, 222: 4, 223: 7, 224: 15, 225: 7, 226: 3, 227: 15, 228: 2, 229: 31, 230: 13, 231: 1, 232: 5, 233: 1, 234: 1, 235: 15, 236: 1, 237: 11, 238: 13, 239: 1, 240: 10, 241: 3, 242: 9, 243: 4, 244: 8, 245: 15, 246: 2, 247: 1, 248: 25, 249: 5, 250: 3, 251: 4, 252: 8, 253: 16, 254: 17, 255: 1, 256: 3, 257: 6, 258: 7, 259: 5, 260: 4, 261: 5, 262: 3, 263: 2, 264: 12, 265: 134, 266: 2, 267: 1, 268: 2, 269: 8, 270: 3, 271: 3, 272: 1, 273: 1, 274: 12, 275: 10, 276: 11, 277: 2, 278: 2, 279: 3, 280: 1, 281: 2, 282: 10, 283: 1, 284: 2, 285: 4, 286: 2, 287: 2, 288: 37, 289: 26, 290: 6, 291: 4, 292: 9, 293: 4, 294: 1, 295: 1, 296: 1, 297: 2, 298: 3, 299: 13, 300: 8, 301: 1, 302: 3, 303: 3, 304: 1, 305: 4, 306: 3, 307: 6, 308: 2, 309: 1, 310: 1, 311: 13, 312: 2, 313: 4, 314: 1, 315: 4, 316: 2, 317: 32, 318: 3, 319: 8, 320: 3, 321: 5, 322: 2, 323: 12, 324: 9, 325: 5, 326: 1, 327: 4, 328: 6, 329: 12, 330: 2, 331: 3, 332: 1, 333: 3, 334: 13, 335: 6, 336: 2, 337: 2, 338: 7, 339: 4, 340: 55, 341: 2, 342: 9, 343: 23, 344: 2, 345: 11, 346: 2, 347: 7, 348: 2, 349: 1, 350: 24, 351: 11, 352: 19, 353: 4, 354: 4, 355: 8, 356: 3, 357: 26, 358: 4, 359: 3, 360: 10, 361: 7, 362: 3, 363: 9, 364: 7, 365: 5, 366: 1, 367: 1, 368: 8, 369: 4, 370: 1, 371: 2, 372: 16, 373: 3, 374: 22, 375: 9, 376: 1, 377: 10, 378: 1, 379: 2, 380: 6, 381: 1, 382: 4, 383: 9, 384: 1, 385: 6, 386: 7, 387: 3, 388: 3, 389: 30, 390: 1, 391: 1, 392: 3, 393: 4, 394: 1, 395: 4, 396: 1, 397: 12, 398: 9, 399: 2, 400: 12, 401: 1, 402: 1, 403: 4, 404: 14, 405: 2, 406: 1, 407: 2, 408: 5, 409: 1, 410: 3, 411: 1, 412: 2, 413: 4, 414: 4, 415: 1, 416: 4, 417: 2, 418: 5, 419: 11, 420: 3, 421: 6, 422: 2, 423: 2, 424: 9, 425: 2, 426: 4, 427: 5, 428: 1, 429: 7, 430: 2, 431: 2, 432: 15, 433: 3, 434: 22, 435: 2, 436: 9, 437: 8, 438: 3, 439: 10, 440: 5, 441: 10, 442: 3, 443: 2, 444: 3, 445: 5, 446: 20, 447: 2, 448: 8, 449: 11, 450: 7, 451: 7, 452: 8, 453: 2, 454: 4, 455: 2, 456: 7, 457: 2, 458: 10, 459: 8, 460: 6, 461: 3, 462: 1, 463: 3, 464: 1, 465: 16, 466: 8, 467: 4, 468: 1, 469: 8, 470: 6, 471: 2, 472: 2, 473: 7, 474: 4, 475: 1, 476: 4, 477: 1, 478: 10, 479: 7, 480: 3, 481: 1, 482: 1, 483: 3, 484: 3, 485: 10, 486: 3, 487: 2, 488: 6, 489: 1, 490: 2, 491: 15, 492: 1, 493: 1, 494: 12, 495: 3, 496: 1, 497: 3, 498: 33, 499: 3, 500: 2, 501: 9, 502: 9, 503: 2, 504: 3, 505: 35, 506: 1, 507: 6, 508: 8, 509: 3, 510: 6, 511: 1, 512: 1, 513: 1, 514: 1, 515: 6, 516: 13, 517: 5, 518: 59, 519: 2, 520: 1, 521: 5, 522: 11, 523: 2, 524: 29, 525: 3, 526: 17, 527: 7, 528: 1, 529: 3, 530: 2, 531: 5, 532: 2, 533: 2, 534: 1, 535: 6, 536: 10, 537: 2, 538: 6, 539: 3, 540: 3, 541: 1, 542: 1, 543: 6, 544: 3, 545: 22, 546: 9, 547: 9, 548: 5, 549: 2, 550: 21, 551: 1, 552: 4, 553: 2, 554: 5, 555: 17, 556: 3, 557: 5, 558: 13, 559: 4, 560: 1, 561: 1, 562: 1, 563: 13, 564: 1, 565: 2, 566: 4, 567: 3, 568: 3, 569: 3, 570: 14, 571: 4, 572: 7, 573: 1, 574: 2, 575: 2, 576: 17, 577: 9, 578: 10, 579: 3, 580: 8, 581: 8, 582: 1, 583: 4, 584: 15, 585: 4, 586: 1, 587: 4, 588: 2, 589: 2, 590: 1, 591: 5, 592: 1, 593: 14, 594: 2, 595: 6, 596: 8, 597: 23, 598: 5, 599: 8, 600: 1, 601: 22, 602: 3, 603: 27, 604: 2, 605: 5, 606: 1, 607: 1, 608: 7, 609: 3, 610: 2, 611: 47, 612: 4, 613: 16, 614: 1, 615: 3, 616: 23, 617: 3, 618: 6, 619: 5})"
      ]
     },
     "execution_count": 10,
     "metadata": {},
     "output_type": "execute_result"
    }
   ],
   "source": [
    "x = nx.degree(G)\n",
    "x"
   ]
  },
  {
   "cell_type": "code",
   "execution_count": 11,
   "id": "photographic-cooking",
   "metadata": {},
   "outputs": [],
   "source": [
    "# nx.degree_centrality(G)"
   ]
  },
  {
   "cell_type": "code",
   "execution_count": 12,
   "id": "subject-allen",
   "metadata": {},
   "outputs": [],
   "source": [
    "# nx.closeness_centrality(G)"
   ]
  },
  {
   "cell_type": "code",
   "execution_count": 13,
   "id": "inside-investigation",
   "metadata": {},
   "outputs": [],
   "source": [
    "# nx.betweenness_centrality(G)"
   ]
  },
  {
   "cell_type": "code",
   "execution_count": 14,
   "id": "exotic-transport",
   "metadata": {},
   "outputs": [
    {
     "data": {
      "text/plain": [
       "0.22264084150905228"
      ]
     },
     "execution_count": 14,
     "metadata": {},
     "output_type": "execute_result"
    }
   ],
   "source": [
    "nx.transitivity(G)"
   ]
  },
  {
   "cell_type": "code",
   "execution_count": 15,
   "id": "understanding-pilot",
   "metadata": {},
   "outputs": [],
   "source": [
    "# nx.clustering(G)"
   ]
  },
  {
   "cell_type": "code",
   "execution_count": 16,
   "id": "loaded-ghana",
   "metadata": {},
   "outputs": [
    {
     "data": {
      "text/plain": [
       "array([[  0,   6],\n",
       "       [  1,   2],\n",
       "       [  2,   3],\n",
       "       ...,\n",
       "       [617,   3],\n",
       "       [618,   6],\n",
       "       [619,   5]])"
      ]
     },
     "execution_count": 16,
     "metadata": {},
     "output_type": "execute_result"
    }
   ],
   "source": [
    "x1 = np.array(x)\n",
    "x1"
   ]
  },
  {
   "cell_type": "code",
   "execution_count": 17,
   "id": "environmental-briefs",
   "metadata": {},
   "outputs": [
    {
     "data": {
      "text/plain": [
       "array([0, 6])"
      ]
     },
     "execution_count": 17,
     "metadata": {},
     "output_type": "execute_result"
    }
   ],
   "source": [
    "x1[:][0]"
   ]
  },
  {
   "cell_type": "code",
   "execution_count": 18,
   "id": "modern-influence",
   "metadata": {},
   "outputs": [],
   "source": [
    "X = []\n",
    "Y = []\n",
    "for row in x1[:]:\n",
    "    X.append(row[0])\n",
    "    Y.append(row[1])"
   ]
  },
  {
   "cell_type": "code",
   "execution_count": 19,
   "id": "special-factory",
   "metadata": {},
   "outputs": [
    {
     "data": {
      "image/png": "[encoded data removed]",
      "text/plain": [
       "<Figure size 432x288 with 1 Axes>"
      ]
     },
     "metadata": {
      "needs_background": "light"
     },
     "output_type": "display_data"
    }
   ],
   "source": [
    "plt.plot(X,Y)\n",
    "plt.xlabel(\"point\")\n",
    "plt.ylabel(\"degree\")\n",
    "plt.savefig('testfbtxt.jpg')\n",
    "plt.show()"
   ]
  },
  {
   "cell_type": "code",
   "execution_count": 20,
   "id": "alert-rating",
   "metadata": {},
   "outputs": [
    {
     "data": {
      "image/png": "[encoded data removed]",
      "text/plain": [
       "<Figure size 432x288 with 1 Axes>"
      ]
     },
     "metadata": {
      "needs_background": "light"
     },
     "output_type": "display_data"
    }
   ],
   "source": [
    "Y.sort()\n",
    "Y.reverse()\n",
    "plt.plot(Y)\n",
    "plt.xlabel(\"num of point\")\n",
    "plt.ylabel(\"degree\")\n",
    "plt.savefig('testfbtxtreverse.jpg')\n",
    "plt.show()"
   ]
  },
  {
   "cell_type": "code",
   "execution_count": null,
   "id": "amino-consultation",
   "metadata": {},
   "outputs": [],
   "source": []
  }
 ],
 "metadata": {
  "kernelspec": {
   "display_name": "Python 3",
   "language": "python",
   "name": "python3"
  },
  "language_info": {
   "codemirror_mode": {
    "name": "ipython",
    "version": 3
   },
   "file_extension": ".py",
   "mimetype": "text/x-python",
   "name": "python",
   "nbconvert_exporter": "python",
   "pygments_lexer": "ipython3",
   "version": "3.6.12"
  }
 },
 "nbformat": 4,
 "nbformat_minor": 5
}
