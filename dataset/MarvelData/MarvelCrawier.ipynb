{
 "cells": [
  {
   "cell_type": "code",
   "execution_count": 1,
   "id": "opposite-worthy",
   "metadata": {},
   "outputs": [],
   "source": [
    "import json\n",
    "import requests\n",
    " \n",
    "headers = {\n",
    "    'user-agent':'Mozilla/5.0 (Windows NT 10.0; WOW64) AppleWebKit/537.36 (KHTML, like Gecko) Chrome/67.0.3396.99 Safari/537.36'\n",
    "}\n",
    " \n",
    "url = 'https://graphics.straitstimes.com/STI/STIMEDIA/Interactives/2018/04/marvel-cinematic-universe-whos-who-interactive/data/marvel-data.json'\n",
    "response = requests.get(url=url, headers=headers)\n",
    "result = json.loads(response.text)\n",
    " \n",
    "num = 0\n",
    "names = []\n",
    "item = {0: 'friend', 1: 'enemy', 2: 'creation', 3: 'family', 4: 'work', 5: 'love'}\n",
    " \n",
    "for i in result['relationship']:\n",
    "    subject = result['relationship'][i]['id']\n",
    "    object = result['relationship'][i]['target_id']\n",
    " \n",
    "    if subject not in names:\n",
    "        names.append(subject)\n",
    "    if object not in names:\n",
    "        names.append(object)\n",
    " \n",
    "    relation = int(result['relationship'][i]['relationship'])\n",
    "    with open('relation_message.csv', 'a+') as f:\n",
    "        f.write(subject + ',' + object + ',' + item[relation] + '\\n')\n",
    " \n",
    "for j in names:\n",
    "    num += 1\n",
    "    with open('names_message.csv', 'a+') as f:\n",
    "        f.write(j + ',' + str(num) + '\\n')\n",
    " \n",
    "for k in result['characters']:\n",
    "    id = result['characters'][k]['id']\n",
    "    name = result['characters'][k]['name']\n",
    "    status = result['characters'][k]['status']\n",
    "    species = result['characters'][k]['species']\n",
    "    with open('message.csv', 'a+') as f:\n",
    "        f.write(id + ',' + name + ',' + status + ',' + species + '\\n')"
   ]
  }
 ],
 "metadata": {
  "kernelspec": {
   "display_name": "Python 3",
   "language": "python",
   "name": "python3"
  },
  "language_info": {
   "codemirror_mode": {
    "name": "ipython",
    "version": 3
   },
   "file_extension": ".py",
   "mimetype": "text/x-python",
   "name": "python",
   "nbconvert_exporter": "python",
   "pygments_lexer": "ipython3",
   "version": "3.6.12"
  }
 },
 "nbformat": 4,
 "nbformat_minor": 5
}
