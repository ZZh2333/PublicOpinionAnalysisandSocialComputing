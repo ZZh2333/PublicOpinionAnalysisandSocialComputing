{
 "cells": [
  {
   "cell_type": "code",
   "execution_count": null,
   "id": "blank-textbook",
   "metadata": {},
   "outputs": [],
   "source": [
    "for i in range(100,1000):\n",
    "    if i%5==2 and i%7==3 and i%9==2:\n",
    "        print(i)\n",
    "    else:\n",
    "        continue"
   ]
  }
 ],
 "metadata": {
  "kernelspec": {
   "display_name": "Python 3",
   "language": "python",
   "name": "python3"
  },
  "language_info": {
   "codemirror_mode": {
    "name": "ipython",
    "version": 3
   },
   "file_extension": ".py",
   "mimetype": "text/x-python",
   "name": "python",
   "nbconvert_exporter": "python",
   "pygments_lexer": "ipython3",
   "version": "3.6.12"
  }
 },
 "nbformat": 4,
 "nbformat_minor": 5
}
