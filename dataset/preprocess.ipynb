{
 "cells": [
  {
   "cell_type": "code",
   "execution_count": 1,
   "id": "received-penny",
   "metadata": {},
   "outputs": [],
   "source": [
    "import pandas as pd\n",
    "import json\n",
    "import numpy as np"
   ]
  },
  {
   "cell_type": "code",
   "execution_count": 2,
   "id": "pressed-polish",
   "metadata": {},
   "outputs": [
    {
     "data": {
      "text/html": [
       "<div>\n",
       "<style scoped>\n",
       "    .dataframe tbody tr th:only-of-type {\n",
       "        vertical-align: middle;\n",
       "    }\n",
       "\n",
       "    .dataframe tbody tr th {\n",
       "        vertical-align: top;\n",
       "    }\n",
       "\n",
       "    .dataframe thead th {\n",
       "        text-align: right;\n",
       "    }\n",
       "</style>\n",
       "<table border=\"1\" class=\"dataframe\">\n",
       "  <thead>\n",
       "    <tr style=\"text-align: right;\">\n",
       "      <th></th>\n",
       "      <th>source</th>\n",
       "      <th>target</th>\n",
       "      <th>weight</th>\n",
       "      <th>time</th>\n",
       "    </tr>\n",
       "  </thead>\n",
       "  <tbody>\n",
       "    <tr>\n",
       "      <th>0</th>\n",
       "      <td>7188</td>\n",
       "      <td>1</td>\n",
       "      <td>10</td>\n",
       "      <td>1407470400</td>\n",
       "    </tr>\n",
       "    <tr>\n",
       "      <th>1</th>\n",
       "      <td>430</td>\n",
       "      <td>1</td>\n",
       "      <td>10</td>\n",
       "      <td>1376539200</td>\n",
       "    </tr>\n",
       "    <tr>\n",
       "      <th>2</th>\n",
       "      <td>3134</td>\n",
       "      <td>1</td>\n",
       "      <td>10</td>\n",
       "      <td>1369713600</td>\n",
       "    </tr>\n",
       "    <tr>\n",
       "      <th>3</th>\n",
       "      <td>3026</td>\n",
       "      <td>1</td>\n",
       "      <td>10</td>\n",
       "      <td>1350014400</td>\n",
       "    </tr>\n",
       "    <tr>\n",
       "      <th>4</th>\n",
       "      <td>3010</td>\n",
       "      <td>1</td>\n",
       "      <td>10</td>\n",
       "      <td>1347854400</td>\n",
       "    </tr>\n",
       "  </tbody>\n",
       "</table>\n",
       "</div>"
      ],
      "text/plain": [
       "   source  target  weight        time\n",
       "0    7188       1      10  1407470400\n",
       "1     430       1      10  1376539200\n",
       "2    3134       1      10  1369713600\n",
       "3    3026       1      10  1350014400\n",
       "4    3010       1      10  1347854400"
      ]
     },
     "execution_count": 2,
     "metadata": {},
     "output_type": "execute_result"
    }
   ],
   "source": [
    "data = pd.read_csv(\"./soc-sign-bitcoinalpha.csv\", header=None, names=['source','target','weight','time'])\n",
    "data.head()"
   ]
  },
  {
   "cell_type": "code",
   "execution_count": 3,
   "id": "optimum-fight",
   "metadata": {},
   "outputs": [
    {
     "data": {
      "text/plain": [
       "3286"
      ]
     },
     "execution_count": 3,
     "metadata": {},
     "output_type": "execute_result"
    }
   ],
   "source": [
    "source=[]\n",
    "for i in data['source']:\n",
    "    if i not in source:\n",
    "        source.append(i)\n",
    "len(source)"
   ]
  },
  {
   "cell_type": "code",
   "execution_count": 4,
   "id": "finite-bridges",
   "metadata": {},
   "outputs": [
    {
     "data": {
      "text/plain": [
       "7604"
      ]
     },
     "execution_count": 4,
     "metadata": {},
     "output_type": "execute_result"
    }
   ],
   "source": [
    "source.sort()\n",
    "source[3285]"
   ]
  },
  {
   "cell_type": "code",
   "execution_count": 5,
   "id": "sublime-notice",
   "metadata": {},
   "outputs": [
    {
     "data": {
      "text/plain": [
       "[{'name': 1, 'group': 1},\n",
       " {'name': 2, 'group': 2},\n",
       " {'name': 3, 'group': 3},\n",
       " {'name': 4, 'group': 4},\n",
       " {'name': 5, 'group': 5}]"
      ]
     },
     "execution_count": 5,
     "metadata": {},
     "output_type": "execute_result"
    }
   ],
   "source": [
    "nodes = []\n",
    "for i in source:\n",
    "    tmp = {\"name\":i,\"group\":i%10}\n",
    "    nodes.append(tmp)\n",
    "nodes[:5]"
   ]
  },
  {
   "cell_type": "code",
   "execution_count": 6,
   "id": "reported-forth",
   "metadata": {},
   "outputs": [
    {
     "data": {
      "text/plain": [
       "array([[      7188,          1,         10, 1407470400],\n",
       "       [       430,          1,         10, 1376539200],\n",
       "       [      3134,          1,         10, 1369713600],\n",
       "       ...,\n",
       "       [      7604,       7602,         10, 1364270400],\n",
       "       [      7602,       7604,         10, 1364270400],\n",
       "       [      7604,       7603,        -10, 1364270400]], dtype=int64)"
      ]
     },
     "execution_count": 6,
     "metadata": {},
     "output_type": "execute_result"
    }
   ],
   "source": [
    "data = data.values\n",
    "data"
   ]
  },
  {
   "cell_type": "code",
   "execution_count": 7,
   "id": "continuing-territory",
   "metadata": {},
   "outputs": [],
   "source": [
    "def findele(num,source):\n",
    "#     print(len(source))\n",
    "    for i in range(len(source)):\n",
    "        if source[i] == num:\n",
    "            return i\n",
    "    return 0"
   ]
  },
  {
   "cell_type": "code",
   "execution_count": 8,
   "id": "imperial-winner",
   "metadata": {},
   "outputs": [],
   "source": [
    "links = []\n",
    "for row in data:\n",
    "    a = findele(row[0],source)\n",
    "    b = findele(row[1],source)\n",
    "    tmp = {\"source\":a,\"target\":b,\"value\":row[2]}\n",
    "    links.append(tmp)\n",
    "# links[:20]"
   ]
  },
  {
   "cell_type": "code",
   "execution_count": 9,
   "id": "phantom-wildlife",
   "metadata": {},
   "outputs": [],
   "source": [
    "test = {\"nodes\":nodes,\"links\":links}"
   ]
  },
  {
   "cell_type": "code",
   "execution_count": 10,
   "id": "affiliated-agency",
   "metadata": {},
   "outputs": [],
   "source": [
    "class NpEncoder(json.JSONEncoder):\n",
    "    def default(self, obj):\n",
    "        if isinstance(obj, np.integer):\n",
    "            return int(obj)\n",
    "        elif isinstance(obj, np.floating):\n",
    "            return float(obj)\n",
    "        elif isinstance(obj, np.ndarray):\n",
    "            return obj.tolist()\n",
    "        else:\n",
    "            return super(NpEncoder, self).default(obj)"
   ]
  },
  {
   "cell_type": "code",
   "execution_count": 11,
   "id": "cardiovascular-education",
   "metadata": {},
   "outputs": [],
   "source": [
    "with open(\"test.json\",\"w\") as fp:\n",
    "    json.dump(test,fp,cls=NpEncoder,indent=4)"
   ]
  }
 ],
 "metadata": {
  "kernelspec": {
   "display_name": "Python 3",
   "language": "python",
   "name": "python3"
  },
  "language_info": {
   "codemirror_mode": {
    "name": "ipython",
    "version": 3
   },
   "file_extension": ".py",
   "mimetype": "text/x-python",
   "name": "python",
   "nbconvert_exporter": "python",
   "pygments_lexer": "ipython3",
   "version": "3.6.12"
  }
 },
 "nbformat": 4,
 "nbformat_minor": 5
}
