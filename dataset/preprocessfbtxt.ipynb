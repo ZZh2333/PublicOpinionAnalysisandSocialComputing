{
 "cells": [
  {
   "cell_type": "code",
   "execution_count": 1,
   "id": "promotional-surrey",
   "metadata": {},
   "outputs": [],
   "source": [
    "import pandas as pd\n",
    "import json\n",
    "import numpy as np"
   ]
  },
  {
   "cell_type": "code",
   "execution_count": 2,
   "id": "related-personality",
   "metadata": {},
   "outputs": [
    {
     "data": {
      "text/html": [
       "<div>\n",
       "<style scoped>\n",
       "    .dataframe tbody tr th:only-of-type {\n",
       "        vertical-align: middle;\n",
       "    }\n",
       "\n",
       "    .dataframe tbody tr th {\n",
       "        vertical-align: top;\n",
       "    }\n",
       "\n",
       "    .dataframe thead th {\n",
       "        text-align: right;\n",
       "    }\n",
       "</style>\n",
       "<table border=\"1\" class=\"dataframe\">\n",
       "  <thead>\n",
       "    <tr style=\"text-align: right;\">\n",
       "      <th></th>\n",
       "      <th>begin</th>\n",
       "      <th>end</th>\n",
       "    </tr>\n",
       "  </thead>\n",
       "  <tbody>\n",
       "    <tr>\n",
       "      <th>0</th>\n",
       "      <td>0</td>\n",
       "      <td>276</td>\n",
       "    </tr>\n",
       "    <tr>\n",
       "      <th>1</th>\n",
       "      <td>0</td>\n",
       "      <td>58</td>\n",
       "    </tr>\n",
       "    <tr>\n",
       "      <th>2</th>\n",
       "      <td>0</td>\n",
       "      <td>132</td>\n",
       "    </tr>\n",
       "    <tr>\n",
       "      <th>3</th>\n",
       "      <td>0</td>\n",
       "      <td>603</td>\n",
       "    </tr>\n",
       "    <tr>\n",
       "      <th>4</th>\n",
       "      <td>0</td>\n",
       "      <td>398</td>\n",
       "    </tr>\n",
       "  </tbody>\n",
       "</table>\n",
       "</div>"
      ],
      "text/plain": [
       "   begin  end\n",
       "0      0  276\n",
       "1      0   58\n",
       "2      0  132\n",
       "3      0  603\n",
       "4      0  398"
      ]
     },
     "execution_count": 2,
     "metadata": {},
     "output_type": "execute_result"
    }
   ],
   "source": [
    "data = pd.read_csv('fb-pages-food.edges',header=None,names=['begin','end'])\n",
    "data.head()"
   ]
  },
  {
   "cell_type": "code",
   "execution_count": 3,
   "id": "fewer-oklahoma",
   "metadata": {},
   "outputs": [
    {
     "data": {
      "text/html": [
       "<div>\n",
       "<style scoped>\n",
       "    .dataframe tbody tr th:only-of-type {\n",
       "        vertical-align: middle;\n",
       "    }\n",
       "\n",
       "    .dataframe tbody tr th {\n",
       "        vertical-align: top;\n",
       "    }\n",
       "\n",
       "    .dataframe thead th {\n",
       "        text-align: right;\n",
       "    }\n",
       "</style>\n",
       "<table border=\"1\" class=\"dataframe\">\n",
       "  <thead>\n",
       "    <tr style=\"text-align: right;\">\n",
       "      <th></th>\n",
       "      <th>id</th>\n",
       "      <th>name</th>\n",
       "      <th>new_id</th>\n",
       "    </tr>\n",
       "  </thead>\n",
       "  <tbody>\n",
       "    <tr>\n",
       "      <th>0</th>\n",
       "      <td>402449106435352</td>\n",
       "      <td>Josh Marks</td>\n",
       "      <td>386</td>\n",
       "    </tr>\n",
       "    <tr>\n",
       "      <th>1</th>\n",
       "      <td>368969274888</td>\n",
       "      <td>Blue Ribbon Restaurants</td>\n",
       "      <td>473</td>\n",
       "    </tr>\n",
       "    <tr>\n",
       "      <th>2</th>\n",
       "      <td>765596333518863</td>\n",
       "      <td>Pat Neely</td>\n",
       "      <td>1</td>\n",
       "    </tr>\n",
       "    <tr>\n",
       "      <th>3</th>\n",
       "      <td>136870209668885</td>\n",
       "      <td>La Griglia</td>\n",
       "      <td>542</td>\n",
       "    </tr>\n",
       "    <tr>\n",
       "      <th>4</th>\n",
       "      <td>840078802741859</td>\n",
       "      <td>Jose Garces</td>\n",
       "      <td>189</td>\n",
       "    </tr>\n",
       "  </tbody>\n",
       "</table>\n",
       "</div>"
      ],
      "text/plain": [
       "                id                     name  new_id\n",
       "0  402449106435352               Josh Marks     386\n",
       "1     368969274888  Blue Ribbon Restaurants     473\n",
       "2  765596333518863                Pat Neely       1\n",
       "3  136870209668885               La Griglia     542\n",
       "4  840078802741859              Jose Garces     189"
      ]
     },
     "execution_count": 3,
     "metadata": {},
     "output_type": "execute_result"
    }
   ],
   "source": [
    "mapping = pd.read_csv('fb-pages-food.nodes')\n",
    "mapping.head()"
   ]
  },
  {
   "cell_type": "code",
   "execution_count": 4,
   "id": "horizontal-button",
   "metadata": {},
   "outputs": [
    {
     "data": {
      "text/plain": [
       "620"
      ]
     },
     "execution_count": 4,
     "metadata": {},
     "output_type": "execute_result"
    }
   ],
   "source": [
    "point = []\n",
    "for i in data['begin']:\n",
    "    if i not in point:\n",
    "        point.append(i)\n",
    "for j in data['end']:\n",
    "    if j not in point:\n",
    "        point.append(j)\n",
    "len(point)"
   ]
  },
  {
   "cell_type": "code",
   "execution_count": 5,
   "id": "certain-audit",
   "metadata": {},
   "outputs": [
    {
     "data": {
      "text/plain": [
       "[0, 1, 2, 3, 4, 5, 6, 7, 8, 9]"
      ]
     },
     "execution_count": 5,
     "metadata": {},
     "output_type": "execute_result"
    }
   ],
   "source": [
    "point.sort()\n",
    "point[:10]"
   ]
  },
  {
   "cell_type": "code",
   "execution_count": 6,
   "id": "ultimate-racing",
   "metadata": {},
   "outputs": [
    {
     "data": {
      "text/plain": [
       "[{'name': 'Lee Anne Wong'},\n",
       " {'name': 'Pat Neely'},\n",
       " {'name': 'Ben Sargent & Dr. Klaw'},\n",
       " {'name': 'Chef Carlo Cracco'},\n",
       " {'name': 'George Pagonis'}]"
      ]
     },
     "execution_count": 6,
     "metadata": {},
     "output_type": "execute_result"
    }
   ],
   "source": [
    "nodes = []\n",
    "for i in point:\n",
    "    names = mapping.loc[(mapping['new_id']==i)]\n",
    "    name = names['name'].values[0]\n",
    "    tmp = {\"name\":name}\n",
    "    nodes.append(tmp)\n",
    "nodes[:5]"
   ]
  },
  {
   "cell_type": "code",
   "execution_count": 7,
   "id": "fifteen-catalyst",
   "metadata": {},
   "outputs": [
    {
     "data": {
      "text/plain": [
       "array([ 0, 58], dtype=int64)"
      ]
     },
     "execution_count": 7,
     "metadata": {},
     "output_type": "execute_result"
    }
   ],
   "source": [
    "data = data.values\n",
    "data[1]"
   ]
  },
  {
   "cell_type": "code",
   "execution_count": 8,
   "id": "direct-division",
   "metadata": {},
   "outputs": [
    {
     "data": {
      "text/plain": [
       "[{'source': 0, 'target': 276},\n",
       " {'source': 0, 'target': 58},\n",
       " {'source': 0, 'target': 132},\n",
       " {'source': 0, 'target': 603},\n",
       " {'source': 0, 'target': 398}]"
      ]
     },
     "execution_count": 8,
     "metadata": {},
     "output_type": "execute_result"
    }
   ],
   "source": [
    "links = []\n",
    "for row in data:\n",
    "    tmp = {\"source\":row[0],\"target\":row[1]}\n",
    "    links.append(tmp)\n",
    "links[:5]"
   ]
  },
  {
   "cell_type": "code",
   "execution_count": 9,
   "id": "liberal-tumor",
   "metadata": {},
   "outputs": [],
   "source": [
    "test = {\"nodes\":nodes,\"links\":links}"
   ]
  },
  {
   "cell_type": "code",
   "execution_count": 10,
   "id": "placed-center",
   "metadata": {},
   "outputs": [],
   "source": [
    "class NpEncoder(json.JSONEncoder):\n",
    "    def default(self, obj):\n",
    "        if isinstance(obj, np.integer):\n",
    "            return int(obj)\n",
    "        elif isinstance(obj, np.floating):\n",
    "            return float(obj)\n",
    "        elif isinstance(obj, np.ndarray):\n",
    "            return obj.tolist()\n",
    "        else:\n",
    "            return super(NpEncoder, self).default(obj)"
   ]
  },
  {
   "cell_type": "code",
   "execution_count": 11,
   "id": "quantitative-hierarchy",
   "metadata": {},
   "outputs": [],
   "source": [
    "with open(\"testfbtxt.json\",\"w\") as fp:\n",
    "    json.dump(test,fp,cls=NpEncoder,indent=4)"
   ]
  }
 ],
 "metadata": {
  "kernelspec": {
   "display_name": "Python 3",
   "language": "python",
   "name": "python3"
  },
  "language_info": {
   "codemirror_mode": {
    "name": "ipython",
    "version": 3
   },
   "file_extension": ".py",
   "mimetype": "text/x-python",
   "name": "python",
   "nbconvert_exporter": "python",
   "pygments_lexer": "ipython3",
   "version": "3.6.12"
  }
 },
 "nbformat": 4,
 "nbformat_minor": 5
}
