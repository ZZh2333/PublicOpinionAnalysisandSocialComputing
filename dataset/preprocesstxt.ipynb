{
 "cells": [
  {
   "cell_type": "code",
   "execution_count": 1,
   "id": "metallic-decrease",
   "metadata": {},
   "outputs": [],
   "source": [
    "import pandas as pd\n",
    "import json\n",
    "import numpy as np"
   ]
  },
  {
   "cell_type": "code",
   "execution_count": 2,
   "id": "better-console",
   "metadata": {},
   "outputs": [
    {
     "data": {
      "text/html": [
       "<div>\n",
       "<style scoped>\n",
       "    .dataframe tbody tr th:only-of-type {\n",
       "        vertical-align: middle;\n",
       "    }\n",
       "\n",
       "    .dataframe tbody tr th {\n",
       "        vertical-align: top;\n",
       "    }\n",
       "\n",
       "    .dataframe thead th {\n",
       "        text-align: right;\n",
       "    }\n",
       "</style>\n",
       "<table border=\"1\" class=\"dataframe\">\n",
       "  <thead>\n",
       "    <tr style=\"text-align: right;\">\n",
       "      <th></th>\n",
       "      <th>begin</th>\n",
       "      <th>end</th>\n",
       "    </tr>\n",
       "  </thead>\n",
       "  <tbody>\n",
       "    <tr>\n",
       "      <th>0</th>\n",
       "      <td>0</td>\n",
       "      <td>1</td>\n",
       "    </tr>\n",
       "    <tr>\n",
       "      <th>1</th>\n",
       "      <td>2</td>\n",
       "      <td>3</td>\n",
       "    </tr>\n",
       "    <tr>\n",
       "      <th>2</th>\n",
       "      <td>2</td>\n",
       "      <td>4</td>\n",
       "    </tr>\n",
       "    <tr>\n",
       "      <th>3</th>\n",
       "      <td>5</td>\n",
       "      <td>6</td>\n",
       "    </tr>\n",
       "    <tr>\n",
       "      <th>4</th>\n",
       "      <td>5</td>\n",
       "      <td>7</td>\n",
       "    </tr>\n",
       "    <tr>\n",
       "      <th>...</th>\n",
       "      <td>...</td>\n",
       "      <td>...</td>\n",
       "    </tr>\n",
       "    <tr>\n",
       "      <th>25566</th>\n",
       "      <td>420</td>\n",
       "      <td>143</td>\n",
       "    </tr>\n",
       "    <tr>\n",
       "      <th>25567</th>\n",
       "      <td>174</td>\n",
       "      <td>859</td>\n",
       "    </tr>\n",
       "    <tr>\n",
       "      <th>25568</th>\n",
       "      <td>440</td>\n",
       "      <td>460</td>\n",
       "    </tr>\n",
       "    <tr>\n",
       "      <th>25569</th>\n",
       "      <td>52</td>\n",
       "      <td>786</td>\n",
       "    </tr>\n",
       "    <tr>\n",
       "      <th>25570</th>\n",
       "      <td>506</td>\n",
       "      <td>932</td>\n",
       "    </tr>\n",
       "  </tbody>\n",
       "</table>\n",
       "<p>25571 rows × 2 columns</p>\n",
       "</div>"
      ],
      "text/plain": [
       "       begin  end\n",
       "0          0    1\n",
       "1          2    3\n",
       "2          2    4\n",
       "3          5    6\n",
       "4          5    7\n",
       "...      ...  ...\n",
       "25566    420  143\n",
       "25567    174  859\n",
       "25568    440  460\n",
       "25569     52  786\n",
       "25570    506  932\n",
       "\n",
       "[25571 rows x 2 columns]"
      ]
     },
     "execution_count": 2,
     "metadata": {},
     "output_type": "execute_result"
    }
   ],
   "source": [
    "data = pd.read_table(\"email-Eu-core.txt\",sep=\" \",header=None,names=['begin','end'])\n",
    "data"
   ]
  },
  {
   "cell_type": "code",
   "execution_count": 3,
   "id": "sophisticated-devices",
   "metadata": {},
   "outputs": [],
   "source": [
    "point = []\n",
    "for i in data['begin']:\n",
    "    if i not in point:\n",
    "        point.append(i)\n",
    "for j in data['end']:\n",
    "    if j not in point:\n",
    "        point.append(j)\n",
    "point.sort()"
   ]
  },
  {
   "cell_type": "code",
   "execution_count": 4,
   "id": "peaceful-hunger",
   "metadata": {},
   "outputs": [
    {
     "data": {
      "text/plain": [
       "[{'name': 0},\n",
       " {'name': 1},\n",
       " {'name': 2},\n",
       " {'name': 3},\n",
       " {'name': 4},\n",
       " {'name': 5},\n",
       " {'name': 6},\n",
       " {'name': 7},\n",
       " {'name': 8},\n",
       " {'name': 9}]"
      ]
     },
     "execution_count": 4,
     "metadata": {},
     "output_type": "execute_result"
    }
   ],
   "source": [
    "nodes = []\n",
    "for i in point:\n",
    "    tmp = {\"name\":i}\n",
    "    nodes.append(tmp)\n",
    "nodes[:10]"
   ]
  },
  {
   "cell_type": "code",
   "execution_count": 5,
   "id": "proved-judges",
   "metadata": {},
   "outputs": [
    {
     "data": {
      "text/plain": [
       "[1004]"
      ]
     },
     "execution_count": 5,
     "metadata": {},
     "output_type": "execute_result"
    }
   ],
   "source": [
    "point[-1:]"
   ]
  },
  {
   "cell_type": "code",
   "execution_count": 6,
   "id": "czech-alert",
   "metadata": {},
   "outputs": [
    {
     "data": {
      "text/plain": [
       "array([[ 0,  1],\n",
       "       [ 2,  3],\n",
       "       [ 2,  4],\n",
       "       [ 5,  6],\n",
       "       [ 5,  7],\n",
       "       [ 8,  9],\n",
       "       [10, 11],\n",
       "       [12, 13],\n",
       "       [12, 14],\n",
       "       [15, 16]], dtype=int64)"
      ]
     },
     "execution_count": 6,
     "metadata": {},
     "output_type": "execute_result"
    }
   ],
   "source": [
    "data = data.values\n",
    "data[:10]"
   ]
  },
  {
   "cell_type": "code",
   "execution_count": 7,
   "id": "chicken-patrol",
   "metadata": {},
   "outputs": [
    {
     "data": {
      "text/plain": [
       "[{'source': 0, 'target': 1},\n",
       " {'source': 2, 'target': 3},\n",
       " {'source': 2, 'target': 4},\n",
       " {'source': 5, 'target': 6},\n",
       " {'source': 5, 'target': 7},\n",
       " {'source': 8, 'target': 9},\n",
       " {'source': 10, 'target': 11},\n",
       " {'source': 12, 'target': 13},\n",
       " {'source': 12, 'target': 14},\n",
       " {'source': 15, 'target': 16}]"
      ]
     },
     "execution_count": 7,
     "metadata": {},
     "output_type": "execute_result"
    }
   ],
   "source": [
    "links = []\n",
    "for row in data:\n",
    "    tmp = {\"source\":row[0],\"target\":row[1]}\n",
    "    links.append(tmp)\n",
    "links[:10]"
   ]
  },
  {
   "cell_type": "code",
   "execution_count": 8,
   "id": "noted-lithuania",
   "metadata": {},
   "outputs": [],
   "source": [
    "test = {\"nodes\":nodes,\"links\":links}"
   ]
  },
  {
   "cell_type": "code",
   "execution_count": 9,
   "id": "atomic-evans",
   "metadata": {},
   "outputs": [],
   "source": [
    "class NpEncoder(json.JSONEncoder):\n",
    "    def default(self, obj):\n",
    "        if isinstance(obj, np.integer):\n",
    "            return int(obj)\n",
    "        elif isinstance(obj, np.floating):\n",
    "            return float(obj)\n",
    "        elif isinstance(obj, np.ndarray):\n",
    "            return obj.tolist()\n",
    "        else:\n",
    "            return super(NpEncoder, self).default(obj)"
   ]
  },
  {
   "cell_type": "code",
   "execution_count": 10,
   "id": "integrated-casting",
   "metadata": {},
   "outputs": [],
   "source": [
    "with open(\"testemail.json\",\"w\") as fp:\n",
    "    json.dump(test,fp,cls=NpEncoder,indent=4)"
   ]
  }
 ],
 "metadata": {
  "kernelspec": {
   "display_name": "Python 3",
   "language": "python",
   "name": "python3"
  },
  "language_info": {
   "codemirror_mode": {
    "name": "ipython",
    "version": 3
   },
   "file_extension": ".py",
   "mimetype": "text/x-python",
   "name": "python",
   "nbconvert_exporter": "python",
   "pygments_lexer": "ipython3",
   "version": "3.6.12"
  }
 },
 "nbformat": 4,
 "nbformat_minor": 5
}
