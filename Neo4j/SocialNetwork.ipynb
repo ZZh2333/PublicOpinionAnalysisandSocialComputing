{
 "cells": [
  {
   "cell_type": "code",
   "execution_count": 1,
   "id": "dried-infection",
   "metadata": {},
   "outputs": [],
   "source": [
    "from py2neo import Graph,Node,Relationship\n",
    "import pandas as pd"
   ]
  },
  {
   "cell_type": "code",
   "execution_count": 2,
   "id": "classical-contamination",
   "metadata": {},
   "outputs": [
    {
     "data": {
      "text/plain": [
       "array([[  0,  58],\n",
       "       [  0, 132],\n",
       "       [  0, 603],\n",
       "       ...,\n",
       "       [601, 616],\n",
       "       [603, 616],\n",
       "       [311, 613]], dtype=int64)"
      ]
     },
     "execution_count": 2,
     "metadata": {},
     "output_type": "execute_result"
    }
   ],
   "source": [
    "data = pd.read_csv('dataset/fb-pages-food.edges').values\n",
    "data"
   ]
  },
  {
   "cell_type": "code",
   "execution_count": 3,
   "id": "female-great",
   "metadata": {},
   "outputs": [
    {
     "data": {
      "text/plain": [
       "array([[402449106435352, 'Josh Marks', 386],\n",
       "       [368969274888, 'Blue Ribbon Restaurants', 473],\n",
       "       [765596333518863, 'Pat Neely', 1],\n",
       "       ...,\n",
       "       [244033175685576, 'Clodagh McKenna', 140],\n",
       "       [119127748110871, 'Chef Michelle Bernstein', 157],\n",
       "       [105059292862854, 'SORTEDfood', 114]], dtype=object)"
      ]
     },
     "execution_count": 3,
     "metadata": {},
     "output_type": "execute_result"
    }
   ],
   "source": [
    "mapping = pd.read_csv('dataset/fb-pages-food.nodes').values\n",
    "mapping"
   ]
  },
  {
   "cell_type": "code",
   "execution_count": 4,
   "id": "diverse-reserve",
   "metadata": {},
   "outputs": [],
   "source": [
    "def findName(num,mapping):\n",
    "    for row in mapping:\n",
    "        if num == row[2]:\n",
    "            return row[1]"
   ]
  },
  {
   "cell_type": "code",
   "execution_count": 5,
   "id": "considered-greenhouse",
   "metadata": {},
   "outputs": [
    {
     "data": {
      "text/plain": [
       "[['Lee Anne Wong', 'Chef Jamie Gwen'],\n",
       " ['Lee Anne Wong', 'Madison Cowan'],\n",
       " ['Lee Anne Wong', 'Elizabeth Karmel'],\n",
       " ['Lee Anne Wong', 'KFC'],\n",
       " ['Lee Anne Wong', 'KFC']]"
      ]
     },
     "execution_count": 5,
     "metadata": {},
     "output_type": "execute_result"
    }
   ],
   "source": [
    "test = []\n",
    "for row in data:\n",
    "    tmp = [findName(row[0],mapping),findName(row[1],mapping)]\n",
    "    test.append(tmp)\n",
    "test[:5]"
   ]
  },
  {
   "cell_type": "code",
   "execution_count": 6,
   "id": "listed-characterization",
   "metadata": {},
   "outputs": [
    {
     "data": {
      "text/plain": [
       "['Lee Anne Wong',\n",
       " 'Chef Jamie Gwen',\n",
       " 'Madison Cowan',\n",
       " 'Elizabeth Karmel',\n",
       " 'KFC']"
      ]
     },
     "execution_count": 6,
     "metadata": {},
     "output_type": "execute_result"
    }
   ],
   "source": [
    "nodes = []\n",
    "for i in test:\n",
    "    if i[0] not in nodes:\n",
    "        nodes.append(i[0])\n",
    "    if i[1] not in nodes:\n",
    "        nodes.append(i[1])\n",
    "nodes[:5]"
   ]
  },
  {
   "cell_type": "code",
   "execution_count": 7,
   "id": "strategic-border",
   "metadata": {},
   "outputs": [],
   "source": [
    "if __name__ == \"__main__\":\n",
    "    g = Graph('bolt://localhost:7687',auth=(\"neo4j\",\"zouzihan0706\"))\n",
    "    for row in nodes:\n",
    "        tx = g.begin()\n",
    "        a = Node(\"shop\",name=row)\n",
    "        tx.create(a)\n",
    "        g.commit(tx)"
   ]
  },
  {
   "cell_type": "code",
   "execution_count": 8,
   "id": "binding-indicator",
   "metadata": {},
   "outputs": [],
   "source": [
    "if __name__ == \"__main__\":\n",
    "    g = Graph('bolt://localhost:7687',auth=(\"neo4j\",\"zouzihan0706\"))\n",
    "    for row in test:\n",
    "        if row[0] != row[1]:\n",
    "            tx = g.begin()\n",
    "            a = g.nodes.match(\"shop\",name=row[0]).first()\n",
    "            b = g.nodes.match(\"shop\",name=row[1]).first()\n",
    "            ab = Relationship(a,\"FOLLOW\",b)\n",
    "            tx.create(ab)\n",
    "            g.commit(tx)"
   ]
  },
  {
   "cell_type": "code",
   "execution_count": 9,
   "id": "instrumental-uncle",
   "metadata": {},
   "outputs": [],
   "source": [
    "# if __name__ == \"__main__\":\n",
    "#     i = 0\n",
    "#     print(i)\n",
    "#     g = Graph('bolt://localhost:7687',auth=(\"neo4j\",\"zouzihan0706\"))\n",
    "#     tx = g.begin()\n",
    "#     for row in test:\n",
    "#         i += 1\n",
    "#         if i % 100 == 0:\n",
    "#             print(i)\n",
    "#         a = Node(\"shop\",name=row[0])\n",
    "#         tx.create(a)\n",
    "#         b = Node(\"shop\",name=row[1])\n",
    "# #         tx.create(b)\n",
    "#         ab = Relationship(a,\"FOLLOW\",b)\n",
    "#         tx.create(ab)\n",
    "#         g.commit(tx)"
   ]
  }
 ],
 "metadata": {
  "kernelspec": {
   "display_name": "Python 3",
   "language": "python",
   "name": "python3"
  },
  "language_info": {
   "codemirror_mode": {
    "name": "ipython",
    "version": 3
   },
   "file_extension": ".py",
   "mimetype": "text/x-python",
   "name": "python",
   "nbconvert_exporter": "python",
   "pygments_lexer": "ipython3",
   "version": "3.6.12"
  }
 },
 "nbformat": 4,
 "nbformat_minor": 5
}
