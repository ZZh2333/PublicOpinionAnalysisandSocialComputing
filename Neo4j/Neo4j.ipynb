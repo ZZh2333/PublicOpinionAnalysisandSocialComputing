{
 "cells": [
  {
   "cell_type": "markdown",
   "id": "undefined-somalia",
   "metadata": {},
   "source": [
    "# neo4j执行CQL（Cypher）语句"
   ]
  },
  {
   "cell_type": "code",
   "execution_count": 1,
   "id": "small-validation",
   "metadata": {},
   "outputs": [],
   "source": [
    "from neo4j import GraphDatabase"
   ]
  },
  {
   "cell_type": "code",
   "execution_count": 2,
   "id": "japanese-breath",
   "metadata": {},
   "outputs": [],
   "source": [
    "driver = GraphDatabase.driver('bolt://localhost:7687',auth=(\"neo4j\",\"zouzihan0706\"))"
   ]
  },
  {
   "cell_type": "code",
   "execution_count": 3,
   "id": "english-latest",
   "metadata": {},
   "outputs": [],
   "source": [
    "def add_friend(tx, name, friend_name):\n",
    "    tx.run(\"MERGE (a:Person {name: $name}) \"\n",
    "           \"MERGE (a)-[:KNOWS]->(friend:Person {name: $friend_name})\",\n",
    "           name=name, friend_name=friend_name)\n",
    "\n",
    "def print_friends(tx, name):\n",
    "    for record in tx.run(\"MATCH (a:Person)-[:KNOWS]->(friend) WHERE a.name = $name \"\n",
    "                         \"RETURN friend.name ORDER BY friend.name\", name=name):\n",
    "        print(record[\"friend.name\"])"
   ]
  },
  {
   "cell_type": "code",
   "execution_count": 4,
   "id": "amino-jenny",
   "metadata": {},
   "outputs": [
    {
     "name": "stdout",
     "output_type": "stream",
     "text": [
      "Guinevere\n",
      "Lancelot\n",
      "Merlin\n"
     ]
    }
   ],
   "source": [
    "with driver.session() as session:\n",
    "    session.write_transaction(add_friend, \"Arthur\", \"Guinevere\")\n",
    "    session.write_transaction(add_friend, \"Arthur\", \"Lancelot\")\n",
    "    session.write_transaction(add_friend, \"Arthur\", \"Merlin\")\n",
    "    session.read_transaction(print_friends, \"Arthur\")"
   ]
  },
  {
   "cell_type": "code",
   "execution_count": null,
   "id": "common-billy",
   "metadata": {},
   "outputs": [],
   "source": []
  }
 ],
 "metadata": {
  "kernelspec": {
   "display_name": "Python 3",
   "language": "python",
   "name": "python3"
  },
  "language_info": {
   "codemirror_mode": {
    "name": "ipython",
    "version": 3
   },
   "file_extension": ".py",
   "mimetype": "text/x-python",
   "name": "python",
   "nbconvert_exporter": "python",
   "pygments_lexer": "ipython3",
   "version": "3.6.12"
  }
 },
 "nbformat": 4,
 "nbformat_minor": 5
}
