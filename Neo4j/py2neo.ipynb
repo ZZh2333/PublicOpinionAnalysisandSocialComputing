{
 "cells": [
  {
   "cell_type": "code",
   "execution_count": 1,
   "id": "conditional-driver",
   "metadata": {},
   "outputs": [],
   "source": [
    "from py2neo import Graph, Node, Relationship\n",
    "\n",
    "if __name__ == \"__main__\":\n",
    "    g = Graph('bolt://localhost:7687',auth=(\"neo4j\",\"zouzihan0706\"))\n",
    "    tx = g.begin()\n",
    "    a = Node(\"Person\", name=\"Alice\")\n",
    "    tx.create(a)\n",
    "    b = Node(\"Person\", name=\"Bob\")\n",
    "    ab = Relationship(a, \"KNOWS\", b)\n",
    "    tx.create(ab)\n",
    "#     tx.commit()\n",
    "    g.commit(tx)"
   ]
  },
  {
   "cell_type": "code",
   "execution_count": null,
   "id": "lasting-grass",
   "metadata": {},
   "outputs": [],
   "source": []
  }
 ],
 "metadata": {
  "kernelspec": {
   "display_name": "Python 3",
   "language": "python",
   "name": "python3"
  },
  "language_info": {
   "codemirror_mode": {
    "name": "ipython",
    "version": 3
   },
   "file_extension": ".py",
   "mimetype": "text/x-python",
   "name": "python",
   "nbconvert_exporter": "python",
   "pygments_lexer": "ipython3",
   "version": "3.6.12"
  }
 },
 "nbformat": 4,
 "nbformat_minor": 5
}
