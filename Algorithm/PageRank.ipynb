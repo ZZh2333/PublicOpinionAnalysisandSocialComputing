{
 "cells": [
  {
   "cell_type": "markdown",
   "id": "colonial-finder",
   "metadata": {},
   "source": [
    "# 手写PageRank算法"
   ]
  },
  {
   "cell_type": "code",
   "execution_count": 1,
   "id": "cognitive-enzyme",
   "metadata": {},
   "outputs": [],
   "source": [
    "import numpy as np\n",
    "from scipy.sparse import csc_matrix\n",
    "import networkx as nx"
   ]
  },
  {
   "cell_type": "code",
   "execution_count": 2,
   "id": "skilled-hormone",
   "metadata": {},
   "outputs": [],
   "source": [
    "def pageRank(G,s=.85,maxerr=.0001):\n",
    "    n = G.shape[0]\n",
    "    # 将G带入马尔可夫A计算\n",
    "    A = csc_matrix(G,dtype=np.float)\n",
    "    rsums = np.array(A.sum(1))[:,0]\n",
    "    ri, ci = A.nonzero()\n",
    "    A.data /= rsums[ri]\n",
    "    sink = rsums[ri]\n",
    "    sink = rsums == 0\n",
    "    \n",
    "    # 计算PR值，直到满足收敛条件\n",
    "    ro, r = np.zeros(n), np.ones(n)\n",
    "    while np.sum(np.abs(r - ro)) > maxerr:\n",
    "        ro = r.copy()\n",
    "        for i in range(0,n):\n",
    "            Ai = np.array(A[:,i].todense())[:,0]\n",
    "            Di = sink / float(n)\n",
    "            Ei = np.ones(n) / float(n)\n",
    "            r[i] = ro.dot(Ai * s + Di * s + Ei * (1 - s))\n",
    "            \n",
    "    return r / float(sum(r))"
   ]
  },
  {
   "cell_type": "code",
   "execution_count": 3,
   "id": "contemporary-stream",
   "metadata": {},
   "outputs": [
    {
     "name": "stdout",
     "output_type": "stream",
     "text": [
      "[0.51203622 0.19313191 0.29483187]\n"
     ]
    }
   ],
   "source": [
    "if __name__ == \"__main__\":\n",
    "    G = np.array([[0,0,1],\n",
    "                 [1,0,0],\n",
    "                 [1,1,0]])\n",
    "    print(pageRank(G,s=0.85))"
   ]
  },
  {
   "cell_type": "markdown",
   "id": "dressed-recall",
   "metadata": {},
   "source": [
    "参考文献：[PageRank算法原理与实现](https://zhuanlan.zhihu.com/p/86004363)"
   ]
  }
 ],
 "metadata": {
  "kernelspec": {
   "display_name": "Python 3",
   "language": "python",
   "name": "python3"
  },
  "language_info": {
   "codemirror_mode": {
    "name": "ipython",
    "version": 3
   },
   "file_extension": ".py",
   "mimetype": "text/x-python",
   "name": "python",
   "nbconvert_exporter": "python",
   "pygments_lexer": "ipython3",
   "version": "3.6.12"
  }
 },
 "nbformat": 4,
 "nbformat_minor": 5
}
