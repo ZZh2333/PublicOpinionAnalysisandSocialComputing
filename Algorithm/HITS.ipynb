{
 "cells": [
  {
   "cell_type": "markdown",
   "id": "textile-theme",
   "metadata": {},
   "source": [
    "# 手写HITS算法"
   ]
  },
  {
   "cell_type": "code",
   "execution_count": 1,
   "id": "scientific-grain",
   "metadata": {},
   "outputs": [],
   "source": [
    "from math import sqrt\n",
    "from pygraph.classes.digraph import digraph\n",
    "import networkx as nx\n",
    "import matplotlib.pyplot as plt"
   ]
  },
  {
   "cell_type": "code",
   "execution_count": 2,
   "id": "asian-liabilities",
   "metadata": {},
   "outputs": [],
   "source": [
    "class HITSIterator:\n",
    "    __doc__ = \"FILE_PATH\"\n",
    "    \n",
    "    def __init__(self,dg):\n",
    "        # 最大迭代次数\n",
    "        self.max_iterations = 100\n",
    "        # 迭代结束条件\n",
    "        self.min_delta = 0.0001\n",
    "        self.graph = dg\n",
    "        \n",
    "        self.hub = {}\n",
    "        self.authority = {}\n",
    "        for node in self.graph.nodes():\n",
    "            self.hub[node] = 1\n",
    "            self.authority[node] = 1\n",
    "            \n",
    "    def hits(self):\n",
    "        # 计算每个页面的hub、authority值\n",
    "        \n",
    "        if not self.graph:\n",
    "            return\n",
    "        \n",
    "        flag = False\n",
    "        # 遍历迭代\n",
    "        for i in range(self.max_iterations):\n",
    "            # 记录每轮的变化值\n",
    "            change = 0.0\n",
    "            # 标准化系数\n",
    "            norm = 0\n",
    "            tmp = {}\n",
    "            # 计算每个页面的authority值\n",
    "            tmp = self.authority.copy()\n",
    "            for node in self.graph.nodes():\n",
    "                self.authority[node] = 0\n",
    "                # 遍历所有入射页面\n",
    "                for incident_page in self.graph.incidents(node):\n",
    "                    self.authority[node] += self.hub[incident_page]\n",
    "                norm += pow(self.authority[node],2)\n",
    "            # 标准化\n",
    "            norm = sqrt(norm)\n",
    "            for node in self.graph.nodes():\n",
    "                self.authority[node] /= norm\n",
    "                change += abs(tmp[node] - self.authority[node])\n",
    "                \n",
    "            # 计算每个页面的hub值\n",
    "            norm = 0\n",
    "            tmp = self.hub.copy()\n",
    "            for node in self.graph.nodes():\n",
    "                self.hub[node] = 0\n",
    "                # 遍历所有出射页面\n",
    "                for neighbor_page in self.graph.neighbors(node):\n",
    "                    self.hub[node] += self.authority[neighbor_page]\n",
    "                norm += pow(self.hub[node],2)\n",
    "            # 标准化\n",
    "            norm = sqrt(norm)\n",
    "            for node in self.graph.nodes():\n",
    "                self.hub[node] /= norm\n",
    "                change += abs(tmp[node] - self.hub[node])\n",
    "                \n",
    "            print(\"This is No. %s iteration\" % (i + 1))\n",
    "            print(\"authority\",self.authority)\n",
    "            print(\"hub\",self.hub)\n",
    "            \n",
    "            if change < self.min_delta:\n",
    "                flag = True\n",
    "                break\n",
    "        if flag:\n",
    "            print(\"finished in %s iterations!\" % (i + 1))\n",
    "        else:\n",
    "            print(\"finished out of 100 iterations!\")\n",
    "            \n",
    "        print(\"===============================================================\")\n",
    "        print(\"The best authority page:\",max(self.authority.items(),key=lambda x:x[1]))\n",
    "        print(\"The best hub page:\",max(self.hub.items(),key=lambda x:x[1]))"
   ]
  },
  {
   "cell_type": "code",
   "execution_count": 3,
   "id": "mobile-manor",
   "metadata": {},
   "outputs": [
    {
     "name": "stdout",
     "output_type": "stream",
     "text": [
      "This is No. 1 iteration\n",
      "authority {'A': 0.2581988897471611, 'B': 0.0, 'C': 0.2581988897471611, 'D': 0.5163977794943222, 'E': 0.7745966692414834}\n",
      "hub {'A': 0.412081691846067, 'B': 0.6868028197434451, 'C': 0.4120816918460671, 'D': 0.4120816918460671, 'E': 0.137360563948689}\n",
      "This is No. 2 iteration\n",
      "authority {'A': 0.07161148740394328, 'B': 0.0, 'C': 0.21483446221182984, 'D': 0.5728918992315463, 'E': 0.7877263614433762}\n",
      "hub {'A': 0.408529743989514, 'B': 0.705642285072797, 'C': 0.4085297439895141, 'D': 0.4085297439895141, 'E': 0.03713906763541037}\n",
      "This is No. 3 iteration\n",
      "authority {'A': 0.019234326202820506, 'B': 0.0, 'C': 0.21157758823102554, 'D': 0.5770297860846152, 'E': 0.7886073743156409}\n",
      "hub {'A': 0.40826853033350996, 'B': 0.7070016013092492, 'C': 0.40826853033351007, 'D': 0.40826853033351007, 'E': 0.009957769032524634}\n",
      "This is No. 4 iteration\n",
      "authority {'A': 0.005154707656790011, 'B': 0.0, 'C': 0.21134301392839044, 'D': 0.5773272575604813, 'E': 0.7886702714888718}\n",
      "hub {'A': 0.4082497437883339, 'B': 0.7070992294373103, 'C': 0.4082497437883339, 'D': 0.4082497437883339, 'E': 0.0026682989790087178}\n",
      "This is No. 5 iteration\n",
      "authority {'A': 0.0013812167871263142, 'B': 0.0, 'C': 0.2113261684303261, 'D': 0.5773486170187994, 'E': 0.7886747854491255}\n",
      "hub {'A': 0.4082483948087273, 'B': 0.7071062389944508, 'C': 0.4082483948087274, 'D': 0.4082483948087274, 'E': 0.0007149709191046012}\n",
      "This is No. 6 iteration\n",
      "authority {'A': 0.0003700962503647723, 'B': 0.0, 'C': 0.211324958958285, 'D': 0.5773501505690449, 'E': 0.7886751095273299}\n",
      "hub {'A': 0.40824829795549167, 'B': 0.7071067422589018, 'C': 0.40824829795549167, 'D': 0.40824829795549167, 'E': 0.00019157592583551931}\n",
      "This is No. 7 iteration\n",
      "authority {'A': 9.916699771093284e-05, 'B': 0.0, 'C': 0.21132487212199788, 'D': 0.577350260673051, 'E': 0.7886751327950488}\n",
      "hub {'A': 0.4082482910017378, 'B': 0.7071067783916682, 'C': 0.40824829100173776, 'D': 0.40824829100173776, 'E': 5.133261549122819e-05}\n",
      "This is No. 8 iteration\n",
      "authority {'A': 2.6571717073737266e-05, 'B': 0.0, 'C': 0.2113248658874325, 'D': 0.5773502685781633, 'E': 0.7886751344655957}\n",
      "hub {'A': 0.4082482905024808, 'B': 0.7071067809858843, 'C': 0.40824829050248074, 'D': 0.40824829050248074, 'E': 1.37545328830727e-05}\n",
      "This is No. 9 iteration\n",
      "authority {'A': 7.119870133749227e-06, 'B': 0.0, 'C': 0.2113248654398108, 'D': 0.5773502691457247, 'E': 0.7886751345855355}\n",
      "hub {'A': 0.40824829046663563, 'B': 0.7071067811721405, 'C': 0.40824829046663563, 'D': 0.40824829046663563, 'E': 3.6855159786102473e-06}\n",
      "finished in 9 iterations!\n",
      "===============================================================\n",
      "The best authority page: ('E', 0.7886751345855355)\n",
      "The best hub page: ('B', 0.7071067811721405)\n"
     ]
    }
   ],
   "source": [
    "if __name__ == '__main__':\n",
    "    dg = digraph()\n",
    "\n",
    "    dg.add_nodes([\"A\", \"B\", \"C\", \"D\", \"E\"])\n",
    "\n",
    "    dg.add_edge((\"A\", \"C\"))\n",
    "    dg.add_edge((\"A\", \"D\"))\n",
    "    dg.add_edge((\"B\", \"D\"))\n",
    "    dg.add_edge((\"C\", \"E\"))\n",
    "    dg.add_edge((\"D\", \"E\"))\n",
    "    dg.add_edge((\"B\", \"E\"))\n",
    "    dg.add_edge((\"E\", \"A\"))\n",
    "\n",
    "    hits = HITSIterator(dg)\n",
    "    hits.hits()"
   ]
  },
  {
   "cell_type": "code",
   "execution_count": 4,
   "id": "amazing-parks",
   "metadata": {},
   "outputs": [],
   "source": [
    "g = nx.Graph()\n",
    "\n",
    "nodes = [\"A\", \"B\", \"C\", \"D\", \"E\"]\n",
    "for i in nodes:\n",
    "    g.add_node(i)\n",
    "\n",
    "g.add_edge(\"A\", \"C\")\n",
    "g.add_edge(\"A\", \"D\")\n",
    "g.add_edge(\"B\", \"D\")\n",
    "g.add_edge(\"C\", \"E\")\n",
    "g.add_edge(\"D\", \"E\")\n",
    "g.add_edge(\"B\", \"E\")\n",
    "g.add_edge(\"E\", \"A\")"
   ]
  },
  {
   "cell_type": "code",
   "execution_count": 5,
   "id": "suspended-norwegian",
   "metadata": {},
   "outputs": [
    {
     "data": {
      "image/png": "[encoded data removed]",
      "text/plain": [
       "<Figure size 432x288 with 1 Axes>"
      ]
     },
     "metadata": {},
     "output_type": "display_data"
    }
   ],
   "source": [
    "nx.draw(g,with_labels=True,node_color='y')"
   ]
  },
  {
   "cell_type": "markdown",
   "id": "domestic-sullivan",
   "metadata": {},
   "source": [
    "```\n",
    "  - `node_size`:  指定节点的尺寸大小(默认是300)\n",
    "  - `node_color`:  指定节点的颜色 (默认是红色，可以用字符串简单标识颜色，例如'r'为红色，'b'为绿色等)\n",
    "  - `node_shape`:  节点的形状（默认是圆形，用字符串'o'标识）\n",
    "  - `alpha`: 透明度 (默认是1.0，不透明，0为完全透明) \n",
    "  - `width`: 边的宽度 (默认为1.0)\n",
    "  - `edge_color`: 边的颜色(默认为黑色)\n",
    "  - `style`: 边的样式(默认为实现，可选： solid|dashed|dotted,dashdot)\n",
    "  - `with_labels`: 节点是否带标签（默认为True）\n",
    "  - `font_size`: 节点标签字体大小 (默认为12)\n",
    "  - `font_color`: 节点标签字体颜色（默认为黑色）\n",
    "```"
   ]
  },
  {
   "cell_type": "markdown",
   "id": "removed-sweet",
   "metadata": {},
   "source": [
    "参考文献：[HITS算法——从原理到实现](https://blog.csdn.net/rubinorth/article/details/52231620)"
   ]
  }
 ],
 "metadata": {
  "kernelspec": {
   "display_name": "Python 3",
   "language": "python",
   "name": "python3"
  },
  "language_info": {
   "codemirror_mode": {
    "name": "ipython",
    "version": 3
   },
   "file_extension": ".py",
   "mimetype": "text/x-python",
   "name": "python",
   "nbconvert_exporter": "python",
   "pygments_lexer": "ipython3",
   "version": "3.6.12"
  }
 },
 "nbformat": 4,
 "nbformat_minor": 5
}
